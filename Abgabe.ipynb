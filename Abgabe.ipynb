{
 "cells": [
  {
   "cell_type": "markdown",
   "metadata": {},
   "source": [
    "# Installation of needed libaries<br>\n",
    "\n",
    "With regard to an increasing awareness for eco-friendly ways of moving and the fact that the bike is one of the most convenient, cheapest and healthiest as well as popular means of transportation it must be ensured that cycling in Hamburg gets safer. \n",
    "Thus, the goal of our project was to analyse accident statistics of the city of Hamburg by focussing on bicycle accidents in order to provide information about most frequently reported locations of bicycle accidents. A heatmap which includes generic parameters, such as weather, weekdays or time, creates awareness and gives cyclists insights into dangerous locations of accidents in Hamburg they could avoid and creates awareness. In addition, changes in accident locations can be derived using a time series of data from 2016 to 2019. "
   ]
  },
  {
   "cell_type": "code",
   "execution_count": 27,
   "metadata": {},
   "outputs": [],
   "source": [
    "import os\n",
    "import glob\n",
    "from glob import glob\n",
    "import numpy as np\n",
    "import pandas as pd\n",
    "import matplotlib.pyplot as plt\n",
    "import seaborn as sns\n",
    "import math\n",
    "\n",
    "#from keplergl import KeplerGl \n",
    "#import keplergl"
   ]
  },
  {
   "cell_type": "markdown",
   "metadata": {},
   "source": [
    "## Data imports<br>"
   ]
  },
  {
   "cell_type": "code",
   "execution_count": 28,
   "metadata": {},
   "outputs": [],
   "source": [
    "#As we have separate files for each year, we need to navigate to the four relevant filepaths\n",
    "filepath2016 = 'data/2016/Unfallorte_2016_LinRef.txt'\n",
    "filepath2017 = 'data/2017/Unfallorte2017_LinRef.txt'\n",
    "filepath2018 = 'data/2018/Unfallorte2018_LinRef.txt'\n",
    "filepath2019 = 'data/2019/Unfallorte2019_LinRef.txt'"
   ]
  },
  {
   "cell_type": "code",
   "execution_count": 29,
   "metadata": {},
   "outputs": [
    {
     "name": "stderr",
     "output_type": "stream",
     "text": [
      "/Users/dajanabadenhop/opt/anaconda3/lib/python3.8/site-packages/IPython/core/interactiveshell.py:3071: DtypeWarning: Columns (1) have mixed types.Specify dtype option on import or set low_memory=False.\n",
      "  has_raised = await self.run_ast_nodes(code_ast.body, cell_name,\n"
     ]
    }
   ],
   "source": [
    "\n",
    "#Importing the txt-files. As the data was published in Germany, we need to set the decimal as a comma. Seperate lines to avoid error message\n",
    "df_2016 = pd.read_csv(filepath2016, delimiter=';',decimal=',')\n",
    "df_2017 = pd.read_csv(filepath2017, delimiter=';',decimal=',')\n",
    "df_2018 = pd.read_csv(filepath2018, delimiter=';',decimal=',')\n",
    "df_2019 = pd.read_csv(filepath2019, delimiter=';',decimal=',')"
   ]
  },
  {
   "cell_type": "markdown",
   "metadata": {},
   "source": [
    "## Data inspection<br>\n"
   ]
  },
  {
   "cell_type": "code",
   "execution_count": 30,
   "metadata": {},
   "outputs": [
    {
     "name": "stdout",
     "output_type": "stream",
     "text": [
      "<class 'pandas.core.frame.DataFrame'>\n",
      "RangeIndex: 268370 entries, 0 to 268369\n",
      "Data columns (total 24 columns):\n",
      " #   Column       Non-Null Count   Dtype \n",
      "---  ------       --------------   ----- \n",
      " 0   OBJECTID     268370 non-null  int64 \n",
      " 1   ULAND        268370 non-null  int64 \n",
      " 2   UREGBEZ      268370 non-null  int64 \n",
      " 3   UKREIS       268370 non-null  int64 \n",
      " 4   UGEMEINDE    268370 non-null  int64 \n",
      " 5   UJAHR        268370 non-null  int64 \n",
      " 6   UMONAT       268370 non-null  int64 \n",
      " 7   USTUNDE      268370 non-null  int64 \n",
      " 8   UWOCHENTAG   268370 non-null  int64 \n",
      " 9   UKATEGORIE   268370 non-null  int64 \n",
      " 10  UART         268370 non-null  int64 \n",
      " 11  UTYP1        268370 non-null  int64 \n",
      " 12  ULICHTVERH   268370 non-null  int64 \n",
      " 13  IstRad       268370 non-null  int64 \n",
      " 14  IstPKW       268370 non-null  int64 \n",
      " 15  IstFuss      268370 non-null  int64 \n",
      " 16  IstKrad      268370 non-null  int64 \n",
      " 17  IstGkfz      268370 non-null  int64 \n",
      " 18  IstSonstige  268370 non-null  int64 \n",
      " 19  LINREFX      268370 non-null  object\n",
      " 20  LINREFY      268370 non-null  object\n",
      " 21  XGCSWGS84    268370 non-null  object\n",
      " 22  YGCSWGS84    268370 non-null  object\n",
      " 23  STRZUSTAND   268370 non-null  int64 \n",
      "dtypes: int64(20), object(4)\n",
      "memory usage: 49.1+ MB\n"
     ]
    }
   ],
   "source": [
    "#Data was read in successfully, data types are corecct, column number and names differ between years \n",
    "#24 columns for year 2019: \"Ist_Sonstige\" is named differently than in other years\n",
    "df_2019.info()"
   ]
  },
  {
   "cell_type": "code",
   "execution_count": 31,
   "metadata": {},
   "outputs": [
    {
     "data": {
      "text/html": [
       "<div>\n",
       "<style scoped>\n",
       "    .dataframe tbody tr th:only-of-type {\n",
       "        vertical-align: middle;\n",
       "    }\n",
       "\n",
       "    .dataframe tbody tr th {\n",
       "        vertical-align: top;\n",
       "    }\n",
       "\n",
       "    .dataframe thead th {\n",
       "        text-align: right;\n",
       "    }\n",
       "</style>\n",
       "<table border=\"1\" class=\"dataframe\">\n",
       "  <thead>\n",
       "    <tr style=\"text-align: right;\">\n",
       "      <th></th>\n",
       "      <th>OBJECTID</th>\n",
       "      <th>ULAND</th>\n",
       "      <th>UREGBEZ</th>\n",
       "      <th>UKREIS</th>\n",
       "      <th>UGEMEINDE</th>\n",
       "      <th>UJAHR</th>\n",
       "      <th>UMONAT</th>\n",
       "      <th>USTUNDE</th>\n",
       "      <th>UWOCHENTAG</th>\n",
       "      <th>UKATEGORIE</th>\n",
       "      <th>UART</th>\n",
       "      <th>UTYP1</th>\n",
       "      <th>ULICHTVERH</th>\n",
       "      <th>IstRad</th>\n",
       "      <th>IstPKW</th>\n",
       "      <th>IstFuss</th>\n",
       "      <th>IstKrad</th>\n",
       "      <th>IstGkfz</th>\n",
       "      <th>IstSonstige</th>\n",
       "      <th>STRZUSTAND</th>\n",
       "    </tr>\n",
       "  </thead>\n",
       "  <tbody>\n",
       "    <tr>\n",
       "      <th>count</th>\n",
       "      <td>268370.000000</td>\n",
       "      <td>268370.000000</td>\n",
       "      <td>268370.000000</td>\n",
       "      <td>268370.000000</td>\n",
       "      <td>268370.000000</td>\n",
       "      <td>268370.0</td>\n",
       "      <td>268370.000000</td>\n",
       "      <td>268370.000000</td>\n",
       "      <td>268370.000000</td>\n",
       "      <td>268370.000000</td>\n",
       "      <td>268370.000000</td>\n",
       "      <td>268370.000000</td>\n",
       "      <td>268370.000000</td>\n",
       "      <td>268370.000000</td>\n",
       "      <td>268370.000000</td>\n",
       "      <td>268370.000000</td>\n",
       "      <td>268370.00000</td>\n",
       "      <td>268370.000000</td>\n",
       "      <td>268370.000000</td>\n",
       "      <td>268370.000000</td>\n",
       "    </tr>\n",
       "    <tr>\n",
       "      <th>mean</th>\n",
       "      <td>134185.500000</td>\n",
       "      <td>7.282833</td>\n",
       "      <td>2.853404</td>\n",
       "      <td>41.665525</td>\n",
       "      <td>63.106573</td>\n",
       "      <td>2019.0</td>\n",
       "      <td>6.701714</td>\n",
       "      <td>13.249048</td>\n",
       "      <td>4.104196</td>\n",
       "      <td>2.793207</td>\n",
       "      <td>3.891117</td>\n",
       "      <td>3.844640</td>\n",
       "      <td>0.441573</td>\n",
       "      <td>0.277784</td>\n",
       "      <td>0.804162</td>\n",
       "      <td>0.094262</td>\n",
       "      <td>0.13841</td>\n",
       "      <td>0.050143</td>\n",
       "      <td>0.098878</td>\n",
       "      <td>0.282185</td>\n",
       "    </tr>\n",
       "    <tr>\n",
       "      <th>std</th>\n",
       "      <td>77471.890209</td>\n",
       "      <td>3.585170</td>\n",
       "      <td>2.457828</td>\n",
       "      <td>25.923244</td>\n",
       "      <td>107.834334</td>\n",
       "      <td>0.0</td>\n",
       "      <td>3.266014</td>\n",
       "      <td>4.786792</td>\n",
       "      <td>1.867870</td>\n",
       "      <td>0.428173</td>\n",
       "      <td>2.560706</td>\n",
       "      <td>2.116382</td>\n",
       "      <td>0.796565</td>\n",
       "      <td>0.447907</td>\n",
       "      <td>0.396845</td>\n",
       "      <td>0.292193</td>\n",
       "      <td>0.34533</td>\n",
       "      <td>0.218241</td>\n",
       "      <td>0.298499</td>\n",
       "      <td>0.490314</td>\n",
       "    </tr>\n",
       "    <tr>\n",
       "      <th>min</th>\n",
       "      <td>1.000000</td>\n",
       "      <td>1.000000</td>\n",
       "      <td>0.000000</td>\n",
       "      <td>1.000000</td>\n",
       "      <td>0.000000</td>\n",
       "      <td>2019.0</td>\n",
       "      <td>1.000000</td>\n",
       "      <td>0.000000</td>\n",
       "      <td>1.000000</td>\n",
       "      <td>1.000000</td>\n",
       "      <td>0.000000</td>\n",
       "      <td>1.000000</td>\n",
       "      <td>0.000000</td>\n",
       "      <td>0.000000</td>\n",
       "      <td>0.000000</td>\n",
       "      <td>0.000000</td>\n",
       "      <td>0.00000</td>\n",
       "      <td>0.000000</td>\n",
       "      <td>0.000000</td>\n",
       "      <td>0.000000</td>\n",
       "    </tr>\n",
       "    <tr>\n",
       "      <th>25%</th>\n",
       "      <td>67093.250000</td>\n",
       "      <td>5.000000</td>\n",
       "      <td>1.000000</td>\n",
       "      <td>15.000000</td>\n",
       "      <td>0.000000</td>\n",
       "      <td>2019.0</td>\n",
       "      <td>4.000000</td>\n",
       "      <td>10.000000</td>\n",
       "      <td>3.000000</td>\n",
       "      <td>3.000000</td>\n",
       "      <td>2.000000</td>\n",
       "      <td>2.000000</td>\n",
       "      <td>0.000000</td>\n",
       "      <td>0.000000</td>\n",
       "      <td>1.000000</td>\n",
       "      <td>0.000000</td>\n",
       "      <td>0.00000</td>\n",
       "      <td>0.000000</td>\n",
       "      <td>0.000000</td>\n",
       "      <td>0.000000</td>\n",
       "    </tr>\n",
       "    <tr>\n",
       "      <th>50%</th>\n",
       "      <td>134185.500000</td>\n",
       "      <td>7.000000</td>\n",
       "      <td>3.000000</td>\n",
       "      <td>41.000000</td>\n",
       "      <td>16.000000</td>\n",
       "      <td>2019.0</td>\n",
       "      <td>7.000000</td>\n",
       "      <td>14.000000</td>\n",
       "      <td>4.000000</td>\n",
       "      <td>3.000000</td>\n",
       "      <td>4.000000</td>\n",
       "      <td>3.000000</td>\n",
       "      <td>0.000000</td>\n",
       "      <td>0.000000</td>\n",
       "      <td>1.000000</td>\n",
       "      <td>0.000000</td>\n",
       "      <td>0.00000</td>\n",
       "      <td>0.000000</td>\n",
       "      <td>0.000000</td>\n",
       "      <td>0.000000</td>\n",
       "    </tr>\n",
       "    <tr>\n",
       "      <th>75%</th>\n",
       "      <td>201277.750000</td>\n",
       "      <td>9.000000</td>\n",
       "      <td>4.000000</td>\n",
       "      <td>62.000000</td>\n",
       "      <td>89.000000</td>\n",
       "      <td>2019.0</td>\n",
       "      <td>9.000000</td>\n",
       "      <td>17.000000</td>\n",
       "      <td>6.000000</td>\n",
       "      <td>3.000000</td>\n",
       "      <td>5.000000</td>\n",
       "      <td>6.000000</td>\n",
       "      <td>0.000000</td>\n",
       "      <td>1.000000</td>\n",
       "      <td>1.000000</td>\n",
       "      <td>0.000000</td>\n",
       "      <td>0.00000</td>\n",
       "      <td>0.000000</td>\n",
       "      <td>0.000000</td>\n",
       "      <td>1.000000</td>\n",
       "    </tr>\n",
       "    <tr>\n",
       "      <th>max</th>\n",
       "      <td>268370.000000</td>\n",
       "      <td>16.000000</td>\n",
       "      <td>9.000000</td>\n",
       "      <td>91.000000</td>\n",
       "      <td>718.000000</td>\n",
       "      <td>2019.0</td>\n",
       "      <td>12.000000</td>\n",
       "      <td>23.000000</td>\n",
       "      <td>7.000000</td>\n",
       "      <td>3.000000</td>\n",
       "      <td>9.000000</td>\n",
       "      <td>7.000000</td>\n",
       "      <td>2.000000</td>\n",
       "      <td>1.000000</td>\n",
       "      <td>1.000000</td>\n",
       "      <td>1.000000</td>\n",
       "      <td>1.00000</td>\n",
       "      <td>1.000000</td>\n",
       "      <td>1.000000</td>\n",
       "      <td>2.000000</td>\n",
       "    </tr>\n",
       "  </tbody>\n",
       "</table>\n",
       "</div>"
      ],
      "text/plain": [
       "            OBJECTID          ULAND        UREGBEZ         UKREIS  \\\n",
       "count  268370.000000  268370.000000  268370.000000  268370.000000   \n",
       "mean   134185.500000       7.282833       2.853404      41.665525   \n",
       "std     77471.890209       3.585170       2.457828      25.923244   \n",
       "min         1.000000       1.000000       0.000000       1.000000   \n",
       "25%     67093.250000       5.000000       1.000000      15.000000   \n",
       "50%    134185.500000       7.000000       3.000000      41.000000   \n",
       "75%    201277.750000       9.000000       4.000000      62.000000   \n",
       "max    268370.000000      16.000000       9.000000      91.000000   \n",
       "\n",
       "           UGEMEINDE     UJAHR         UMONAT        USTUNDE     UWOCHENTAG  \\\n",
       "count  268370.000000  268370.0  268370.000000  268370.000000  268370.000000   \n",
       "mean       63.106573    2019.0       6.701714      13.249048       4.104196   \n",
       "std       107.834334       0.0       3.266014       4.786792       1.867870   \n",
       "min         0.000000    2019.0       1.000000       0.000000       1.000000   \n",
       "25%         0.000000    2019.0       4.000000      10.000000       3.000000   \n",
       "50%        16.000000    2019.0       7.000000      14.000000       4.000000   \n",
       "75%        89.000000    2019.0       9.000000      17.000000       6.000000   \n",
       "max       718.000000    2019.0      12.000000      23.000000       7.000000   \n",
       "\n",
       "          UKATEGORIE           UART          UTYP1     ULICHTVERH  \\\n",
       "count  268370.000000  268370.000000  268370.000000  268370.000000   \n",
       "mean        2.793207       3.891117       3.844640       0.441573   \n",
       "std         0.428173       2.560706       2.116382       0.796565   \n",
       "min         1.000000       0.000000       1.000000       0.000000   \n",
       "25%         3.000000       2.000000       2.000000       0.000000   \n",
       "50%         3.000000       4.000000       3.000000       0.000000   \n",
       "75%         3.000000       5.000000       6.000000       0.000000   \n",
       "max         3.000000       9.000000       7.000000       2.000000   \n",
       "\n",
       "              IstRad         IstPKW        IstFuss       IstKrad  \\\n",
       "count  268370.000000  268370.000000  268370.000000  268370.00000   \n",
       "mean        0.277784       0.804162       0.094262       0.13841   \n",
       "std         0.447907       0.396845       0.292193       0.34533   \n",
       "min         0.000000       0.000000       0.000000       0.00000   \n",
       "25%         0.000000       1.000000       0.000000       0.00000   \n",
       "50%         0.000000       1.000000       0.000000       0.00000   \n",
       "75%         1.000000       1.000000       0.000000       0.00000   \n",
       "max         1.000000       1.000000       1.000000       1.00000   \n",
       "\n",
       "             IstGkfz    IstSonstige     STRZUSTAND  \n",
       "count  268370.000000  268370.000000  268370.000000  \n",
       "mean        0.050143       0.098878       0.282185  \n",
       "std         0.218241       0.298499       0.490314  \n",
       "min         0.000000       0.000000       0.000000  \n",
       "25%         0.000000       0.000000       0.000000  \n",
       "50%         0.000000       0.000000       0.000000  \n",
       "75%         0.000000       0.000000       1.000000  \n",
       "max         1.000000       1.000000       2.000000  "
      ]
     },
     "execution_count": 31,
     "metadata": {},
     "output_type": "execute_result"
    }
   ],
   "source": [
    "#Checking the basic decriptive information about variables; information matches the provided meta data sheet (\"DSB_Unfallatlas.pdf\")\n",
    "df_2019.describe()"
   ]
  },
  {
   "cell_type": "code",
   "execution_count": 32,
   "metadata": {},
   "outputs": [
    {
     "name": "stdout",
     "output_type": "stream",
     "text": [
      "<class 'pandas.core.frame.DataFrame'>\n",
      "RangeIndex: 211868 entries, 0 to 211867\n",
      "Data columns (total 24 columns):\n",
      " #   Column      Non-Null Count   Dtype \n",
      "---  ------      --------------   ----- \n",
      " 0   OBJECTID_1  211868 non-null  int64 \n",
      " 1   ULAND       211868 non-null  int64 \n",
      " 2   UREGBEZ     211868 non-null  int64 \n",
      " 3   UKREIS      211868 non-null  int64 \n",
      " 4   UGEMEINDE   211868 non-null  int64 \n",
      " 5   UJAHR       211868 non-null  int64 \n",
      " 6   UMONAT      211868 non-null  int64 \n",
      " 7   USTUNDE     211868 non-null  int64 \n",
      " 8   UWOCHENTAG  211868 non-null  int64 \n",
      " 9   UKATEGORIE  211868 non-null  int64 \n",
      " 10  UART        211868 non-null  int64 \n",
      " 11  UTYP1       211868 non-null  int64 \n",
      " 12  ULICHTVERH  211868 non-null  int64 \n",
      " 13  IstRad      211868 non-null  int64 \n",
      " 14  IstPKW      211868 non-null  int64 \n",
      " 15  IstFuss     211868 non-null  int64 \n",
      " 16  IstKrad     211868 non-null  int64 \n",
      " 17  IstGkfz     211868 non-null  int64 \n",
      " 18  IstSonstig  211868 non-null  int64 \n",
      " 19  STRZUSTAND  211868 non-null  int64 \n",
      " 20  LINREFX     211868 non-null  object\n",
      " 21  LINREFY     211868 non-null  object\n",
      " 22  XGCSWGS84   211868 non-null  object\n",
      " 23  YGCSWGS84   211868 non-null  object\n",
      "dtypes: int64(20), object(4)\n",
      "memory usage: 38.8+ MB\n"
     ]
    }
   ],
   "source": [
    "#24 columns for year 2018, \"OBJECTID\" is named differently than in other years\n",
    "df_2018.info()"
   ]
  },
  {
   "cell_type": "code",
   "execution_count": 33,
   "metadata": {},
   "outputs": [
    {
     "name": "stdout",
     "output_type": "stream",
     "text": [
      "<class 'pandas.core.frame.DataFrame'>\n",
      "RangeIndex: 195229 entries, 0 to 195228\n",
      "Data columns (total 24 columns):\n",
      " #   Column      Non-Null Count   Dtype \n",
      "---  ------      --------------   ----- \n",
      " 0   OBJECTID    195229 non-null  int64 \n",
      " 1   UIDENTSTLA  195229 non-null  object\n",
      " 2   ULAND       195229 non-null  int64 \n",
      " 3   UREGBEZ     195229 non-null  int64 \n",
      " 4   UKREIS      195229 non-null  int64 \n",
      " 5   UGEMEINDE   195229 non-null  int64 \n",
      " 6   UJAHR       195229 non-null  int64 \n",
      " 7   UMONAT      195229 non-null  int64 \n",
      " 8   USTUNDE     195229 non-null  int64 \n",
      " 9   UWOCHENTAG  195229 non-null  int64 \n",
      " 10  UKATEGORIE  195229 non-null  int64 \n",
      " 11  UART        195229 non-null  int64 \n",
      " 12  UTYP1       195229 non-null  int64 \n",
      " 13  IstRad      195229 non-null  int64 \n",
      " 14  IstPKW      195229 non-null  int64 \n",
      " 15  IstFuss     195229 non-null  int64 \n",
      " 16  IstKrad     195229 non-null  int64 \n",
      " 17  IstSonstig  195229 non-null  int64 \n",
      " 18  LICHT       195229 non-null  int64 \n",
      " 19  STRZUSTAND  195229 non-null  int64 \n",
      " 20  LINREFX     195229 non-null  object\n",
      " 21  LINREFY     195229 non-null  object\n",
      " 22  XGCSWGS84   195229 non-null  object\n",
      " 23  YGCSWGS84   195229 non-null  object\n",
      "dtypes: int64(19), object(5)\n",
      "memory usage: 35.7+ MB\n"
     ]
    }
   ],
   "source": [
    "#24 columns for year 2017, \"IstGkfz\" is missing, \"UIDENTSTLA\" is redundant, \"LICHT\" is named differently\n",
    "df_2017.info()"
   ]
  },
  {
   "cell_type": "code",
   "execution_count": 34,
   "metadata": {},
   "outputs": [
    {
     "name": "stdout",
     "output_type": "stream",
     "text": [
      "<class 'pandas.core.frame.DataFrame'>\n",
      "RangeIndex: 151673 entries, 0 to 151672\n",
      "Data columns (total 25 columns):\n",
      " #   Column      Non-Null Count   Dtype \n",
      "---  ------      --------------   ----- \n",
      " 0   FID         151673 non-null  int64 \n",
      " 1   OBJECTID    151673 non-null  int64 \n",
      " 2   ULAND       151673 non-null  int64 \n",
      " 3   UREGBEZ     151673 non-null  int64 \n",
      " 4   UKREIS      151673 non-null  int64 \n",
      " 5   UGEMEINDE   151673 non-null  int64 \n",
      " 6   UJAHR       151673 non-null  int64 \n",
      " 7   UMONAT      151673 non-null  int64 \n",
      " 8   USTUNDE     151673 non-null  int64 \n",
      " 9   UWOCHENTAG  151673 non-null  int64 \n",
      " 10  UKATEGORIE  151673 non-null  int64 \n",
      " 11  UART        151673 non-null  int64 \n",
      " 12  UTYP1       151673 non-null  int64 \n",
      " 13  ULICHTVERH  151673 non-null  int64 \n",
      " 14  IstStrasse  151673 non-null  int64 \n",
      " 15  IstRad      151673 non-null  int64 \n",
      " 16  IstPKW      151673 non-null  int64 \n",
      " 17  IstFuss     151673 non-null  int64 \n",
      " 18  IstKrad     151673 non-null  int64 \n",
      " 19  IstGkfz     151673 non-null  int64 \n",
      " 20  IstSonstig  151673 non-null  int64 \n",
      " 21  LINREFX     151673 non-null  object\n",
      " 22  LINREFY     151673 non-null  object\n",
      " 23  XGCSWGS84   151673 non-null  object\n",
      " 24  YGCSWGS84   151673 non-null  object\n",
      "dtypes: int64(21), object(4)\n",
      "memory usage: 28.9+ MB\n"
     ]
    }
   ],
   "source": [
    "#25 columns for year 2016, \"FID\" is redundand\n",
    "df_2016.info()"
   ]
  },
  {
   "cell_type": "markdown",
   "metadata": {},
   "source": [
    "## Adjusting structure of individual data sheets<br>\n"
   ]
  },
  {
   "cell_type": "code",
   "execution_count": 35,
   "metadata": {},
   "outputs": [],
   "source": [
    "df_2019.rename(columns={'IstSonstige': 'IstSonstig'}, inplace=True)\n",
    "#checking if the changes worked\n",
    "#df_2019.info()"
   ]
  },
  {
   "cell_type": "code",
   "execution_count": 36,
   "metadata": {},
   "outputs": [],
   "source": [
    "df_2018.rename(columns={'OBJECTID_1': 'OBJECTID'}, inplace=True)\n",
    "\n",
    "#checking if the changes worked\n",
    "#df_2018.info()"
   ]
  },
  {
   "cell_type": "code",
   "execution_count": 37,
   "metadata": {},
   "outputs": [],
   "source": [
    "df_2017.drop(df_2017.columns[1], axis=1, inplace=True)\n",
    "df_2017.rename(columns={'LICHT': 'ULICHTVERH'}, inplace=True)\n",
    "#checking if the changes worked\n",
    "#df_2017.info()"
   ]
  },
  {
   "cell_type": "code",
   "execution_count": 38,
   "metadata": {},
   "outputs": [],
   "source": [
    "#delete the unnecessary columns\n",
    "df_2016.rename(columns={'IstStrasse': 'STRZUSTAND'}, inplace=True)\n",
    "df_2016.drop('FID', axis=1, inplace=True)\n",
    "\n",
    "#checking if the changes worked\n",
    "#df_2016.info()\n"
   ]
  },
  {
   "cell_type": "markdown",
   "metadata": {},
   "source": [
    "## Combining data to one dataframe<br>"
   ]
  },
  {
   "cell_type": "code",
   "execution_count": 39,
   "metadata": {},
   "outputs": [],
   "source": [
    "\n",
    "# new dataframe (alle Jahre)\n",
    "dfs = [df_2016, df_2017, df_2018, df_2019]\n",
    "df_concat = pd.concat(dfs)"
   ]
  },
  {
   "cell_type": "code",
   "execution_count": 40,
   "metadata": {},
   "outputs": [
    {
     "data": {
      "text/html": [
       "<div>\n",
       "<style scoped>\n",
       "    .dataframe tbody tr th:only-of-type {\n",
       "        vertical-align: middle;\n",
       "    }\n",
       "\n",
       "    .dataframe tbody tr th {\n",
       "        vertical-align: top;\n",
       "    }\n",
       "\n",
       "    .dataframe thead th {\n",
       "        text-align: right;\n",
       "    }\n",
       "</style>\n",
       "<table border=\"1\" class=\"dataframe\">\n",
       "  <thead>\n",
       "    <tr style=\"text-align: right;\">\n",
       "      <th></th>\n",
       "      <th>OBJECTID</th>\n",
       "      <th>ULAND</th>\n",
       "      <th>UREGBEZ</th>\n",
       "      <th>UKREIS</th>\n",
       "      <th>UGEMEINDE</th>\n",
       "      <th>UJAHR</th>\n",
       "      <th>UMONAT</th>\n",
       "      <th>USTUNDE</th>\n",
       "      <th>UWOCHENTAG</th>\n",
       "      <th>UKATEGORIE</th>\n",
       "      <th>UART</th>\n",
       "      <th>UTYP1</th>\n",
       "      <th>ULICHTVERH</th>\n",
       "      <th>STRZUSTAND</th>\n",
       "      <th>IstRad</th>\n",
       "      <th>IstPKW</th>\n",
       "      <th>IstFuss</th>\n",
       "      <th>IstKrad</th>\n",
       "      <th>IstGkfz</th>\n",
       "      <th>IstSonstig</th>\n",
       "    </tr>\n",
       "  </thead>\n",
       "  <tbody>\n",
       "    <tr>\n",
       "      <th>count</th>\n",
       "      <td>827140.00000</td>\n",
       "      <td>827140.000000</td>\n",
       "      <td>827140.000000</td>\n",
       "      <td>827140.000000</td>\n",
       "      <td>827140.000000</td>\n",
       "      <td>827140.000000</td>\n",
       "      <td>827140.000000</td>\n",
       "      <td>827140.000000</td>\n",
       "      <td>827140.000000</td>\n",
       "      <td>827140.000000</td>\n",
       "      <td>827140.000000</td>\n",
       "      <td>827140.000000</td>\n",
       "      <td>827140.000000</td>\n",
       "      <td>827140.000000</td>\n",
       "      <td>827140.000000</td>\n",
       "      <td>827140.000000</td>\n",
       "      <td>827140.000000</td>\n",
       "      <td>827140.000000</td>\n",
       "      <td>631911.000000</td>\n",
       "      <td>827140.000000</td>\n",
       "    </tr>\n",
       "    <tr>\n",
       "      <th>mean</th>\n",
       "      <td>107618.05428</td>\n",
       "      <td>7.485727</td>\n",
       "      <td>2.780850</td>\n",
       "      <td>41.650878</td>\n",
       "      <td>74.444528</td>\n",
       "      <td>2017.721686</td>\n",
       "      <td>6.719216</td>\n",
       "      <td>13.267426</td>\n",
       "      <td>4.100752</td>\n",
       "      <td>2.790679</td>\n",
       "      <td>3.962610</td>\n",
       "      <td>3.844081</td>\n",
       "      <td>0.436658</td>\n",
       "      <td>0.282557</td>\n",
       "      <td>0.260616</td>\n",
       "      <td>0.810794</td>\n",
       "      <td>0.088249</td>\n",
       "      <td>0.143469</td>\n",
       "      <td>0.051327</td>\n",
       "      <td>0.109625</td>\n",
       "    </tr>\n",
       "    <tr>\n",
       "      <th>std</th>\n",
       "      <td>66672.85815</td>\n",
       "      <td>3.522928</td>\n",
       "      <td>2.251166</td>\n",
       "      <td>25.728318</td>\n",
       "      <td>114.846793</td>\n",
       "      <td>1.102954</td>\n",
       "      <td>3.235969</td>\n",
       "      <td>4.805245</td>\n",
       "      <td>1.870905</td>\n",
       "      <td>0.431494</td>\n",
       "      <td>2.562454</td>\n",
       "      <td>2.120376</td>\n",
       "      <td>0.793444</td>\n",
       "      <td>0.500551</td>\n",
       "      <td>0.438971</td>\n",
       "      <td>0.391673</td>\n",
       "      <td>0.283656</td>\n",
       "      <td>0.350551</td>\n",
       "      <td>0.220664</td>\n",
       "      <td>0.312422</td>\n",
       "    </tr>\n",
       "    <tr>\n",
       "      <th>min</th>\n",
       "      <td>1.00000</td>\n",
       "      <td>1.000000</td>\n",
       "      <td>0.000000</td>\n",
       "      <td>1.000000</td>\n",
       "      <td>0.000000</td>\n",
       "      <td>2016.000000</td>\n",
       "      <td>1.000000</td>\n",
       "      <td>0.000000</td>\n",
       "      <td>1.000000</td>\n",
       "      <td>1.000000</td>\n",
       "      <td>0.000000</td>\n",
       "      <td>1.000000</td>\n",
       "      <td>0.000000</td>\n",
       "      <td>0.000000</td>\n",
       "      <td>0.000000</td>\n",
       "      <td>0.000000</td>\n",
       "      <td>0.000000</td>\n",
       "      <td>0.000000</td>\n",
       "      <td>0.000000</td>\n",
       "      <td>0.000000</td>\n",
       "    </tr>\n",
       "    <tr>\n",
       "      <th>25%</th>\n",
       "      <td>51697.00000</td>\n",
       "      <td>5.000000</td>\n",
       "      <td>1.000000</td>\n",
       "      <td>16.000000</td>\n",
       "      <td>0.000000</td>\n",
       "      <td>2017.000000</td>\n",
       "      <td>4.000000</td>\n",
       "      <td>10.000000</td>\n",
       "      <td>3.000000</td>\n",
       "      <td>3.000000</td>\n",
       "      <td>2.000000</td>\n",
       "      <td>2.000000</td>\n",
       "      <td>0.000000</td>\n",
       "      <td>0.000000</td>\n",
       "      <td>0.000000</td>\n",
       "      <td>1.000000</td>\n",
       "      <td>0.000000</td>\n",
       "      <td>0.000000</td>\n",
       "      <td>0.000000</td>\n",
       "      <td>0.000000</td>\n",
       "    </tr>\n",
       "    <tr>\n",
       "      <th>50%</th>\n",
       "      <td>103393.00000</td>\n",
       "      <td>8.000000</td>\n",
       "      <td>3.000000</td>\n",
       "      <td>37.000000</td>\n",
       "      <td>22.000000</td>\n",
       "      <td>2018.000000</td>\n",
       "      <td>7.000000</td>\n",
       "      <td>14.000000</td>\n",
       "      <td>4.000000</td>\n",
       "      <td>3.000000</td>\n",
       "      <td>4.000000</td>\n",
       "      <td>3.000000</td>\n",
       "      <td>0.000000</td>\n",
       "      <td>0.000000</td>\n",
       "      <td>0.000000</td>\n",
       "      <td>1.000000</td>\n",
       "      <td>0.000000</td>\n",
       "      <td>0.000000</td>\n",
       "      <td>0.000000</td>\n",
       "      <td>0.000000</td>\n",
       "    </tr>\n",
       "    <tr>\n",
       "      <th>75%</th>\n",
       "      <td>156228.00000</td>\n",
       "      <td>9.000000</td>\n",
       "      <td>4.000000</td>\n",
       "      <td>62.000000</td>\n",
       "      <td>118.000000</td>\n",
       "      <td>2019.000000</td>\n",
       "      <td>9.000000</td>\n",
       "      <td>17.000000</td>\n",
       "      <td>6.000000</td>\n",
       "      <td>3.000000</td>\n",
       "      <td>5.000000</td>\n",
       "      <td>6.000000</td>\n",
       "      <td>0.000000</td>\n",
       "      <td>1.000000</td>\n",
       "      <td>1.000000</td>\n",
       "      <td>1.000000</td>\n",
       "      <td>0.000000</td>\n",
       "      <td>0.000000</td>\n",
       "      <td>0.000000</td>\n",
       "      <td>0.000000</td>\n",
       "    </tr>\n",
       "    <tr>\n",
       "      <th>max</th>\n",
       "      <td>268370.00000</td>\n",
       "      <td>16.000000</td>\n",
       "      <td>9.000000</td>\n",
       "      <td>91.000000</td>\n",
       "      <td>718.000000</td>\n",
       "      <td>2019.000000</td>\n",
       "      <td>12.000000</td>\n",
       "      <td>23.000000</td>\n",
       "      <td>7.000000</td>\n",
       "      <td>3.000000</td>\n",
       "      <td>9.000000</td>\n",
       "      <td>7.000000</td>\n",
       "      <td>2.000000</td>\n",
       "      <td>2.000000</td>\n",
       "      <td>1.000000</td>\n",
       "      <td>1.000000</td>\n",
       "      <td>1.000000</td>\n",
       "      <td>1.000000</td>\n",
       "      <td>1.000000</td>\n",
       "      <td>1.000000</td>\n",
       "    </tr>\n",
       "  </tbody>\n",
       "</table>\n",
       "</div>"
      ],
      "text/plain": [
       "           OBJECTID          ULAND        UREGBEZ         UKREIS  \\\n",
       "count  827140.00000  827140.000000  827140.000000  827140.000000   \n",
       "mean   107618.05428       7.485727       2.780850      41.650878   \n",
       "std     66672.85815       3.522928       2.251166      25.728318   \n",
       "min         1.00000       1.000000       0.000000       1.000000   \n",
       "25%     51697.00000       5.000000       1.000000      16.000000   \n",
       "50%    103393.00000       8.000000       3.000000      37.000000   \n",
       "75%    156228.00000       9.000000       4.000000      62.000000   \n",
       "max    268370.00000      16.000000       9.000000      91.000000   \n",
       "\n",
       "           UGEMEINDE          UJAHR         UMONAT        USTUNDE  \\\n",
       "count  827140.000000  827140.000000  827140.000000  827140.000000   \n",
       "mean       74.444528    2017.721686       6.719216      13.267426   \n",
       "std       114.846793       1.102954       3.235969       4.805245   \n",
       "min         0.000000    2016.000000       1.000000       0.000000   \n",
       "25%         0.000000    2017.000000       4.000000      10.000000   \n",
       "50%        22.000000    2018.000000       7.000000      14.000000   \n",
       "75%       118.000000    2019.000000       9.000000      17.000000   \n",
       "max       718.000000    2019.000000      12.000000      23.000000   \n",
       "\n",
       "          UWOCHENTAG     UKATEGORIE           UART          UTYP1  \\\n",
       "count  827140.000000  827140.000000  827140.000000  827140.000000   \n",
       "mean        4.100752       2.790679       3.962610       3.844081   \n",
       "std         1.870905       0.431494       2.562454       2.120376   \n",
       "min         1.000000       1.000000       0.000000       1.000000   \n",
       "25%         3.000000       3.000000       2.000000       2.000000   \n",
       "50%         4.000000       3.000000       4.000000       3.000000   \n",
       "75%         6.000000       3.000000       5.000000       6.000000   \n",
       "max         7.000000       3.000000       9.000000       7.000000   \n",
       "\n",
       "          ULICHTVERH     STRZUSTAND         IstRad         IstPKW  \\\n",
       "count  827140.000000  827140.000000  827140.000000  827140.000000   \n",
       "mean        0.436658       0.282557       0.260616       0.810794   \n",
       "std         0.793444       0.500551       0.438971       0.391673   \n",
       "min         0.000000       0.000000       0.000000       0.000000   \n",
       "25%         0.000000       0.000000       0.000000       1.000000   \n",
       "50%         0.000000       0.000000       0.000000       1.000000   \n",
       "75%         0.000000       1.000000       1.000000       1.000000   \n",
       "max         2.000000       2.000000       1.000000       1.000000   \n",
       "\n",
       "             IstFuss        IstKrad        IstGkfz     IstSonstig  \n",
       "count  827140.000000  827140.000000  631911.000000  827140.000000  \n",
       "mean        0.088249       0.143469       0.051327       0.109625  \n",
       "std         0.283656       0.350551       0.220664       0.312422  \n",
       "min         0.000000       0.000000       0.000000       0.000000  \n",
       "25%         0.000000       0.000000       0.000000       0.000000  \n",
       "50%         0.000000       0.000000       0.000000       0.000000  \n",
       "75%         0.000000       0.000000       0.000000       0.000000  \n",
       "max         1.000000       1.000000       1.000000       1.000000  "
      ]
     },
     "execution_count": 40,
     "metadata": {},
     "output_type": "execute_result"
    }
   ],
   "source": [
    "df_concat.describe()"
   ]
  },
  {
   "cell_type": "markdown",
   "metadata": {},
   "source": [
    "## Filtering relevant data for the project<br>"
   ]
  },
  {
   "cell_type": "code",
   "execution_count": 41,
   "metadata": {},
   "outputs": [],
   "source": [
    "#Filtering only data from Hamburg and bike accidents\n",
    "df = df_concat.loc[(df_concat['IstRad'] == 1) & (df_concat['ULAND']==2)]"
   ]
  },
  {
   "cell_type": "code",
   "execution_count": 42,
   "metadata": {},
   "outputs": [
    {
     "data": {
      "text/html": [
       "<div>\n",
       "<style scoped>\n",
       "    .dataframe tbody tr th:only-of-type {\n",
       "        vertical-align: middle;\n",
       "    }\n",
       "\n",
       "    .dataframe tbody tr th {\n",
       "        vertical-align: top;\n",
       "    }\n",
       "\n",
       "    .dataframe thead th {\n",
       "        text-align: right;\n",
       "    }\n",
       "</style>\n",
       "<table border=\"1\" class=\"dataframe\">\n",
       "  <thead>\n",
       "    <tr style=\"text-align: right;\">\n",
       "      <th></th>\n",
       "      <th>OBJECTID</th>\n",
       "      <th>ULAND</th>\n",
       "      <th>UREGBEZ</th>\n",
       "      <th>UKREIS</th>\n",
       "      <th>UGEMEINDE</th>\n",
       "      <th>UJAHR</th>\n",
       "      <th>UMONAT</th>\n",
       "      <th>USTUNDE</th>\n",
       "      <th>UWOCHENTAG</th>\n",
       "      <th>UKATEGORIE</th>\n",
       "      <th>UART</th>\n",
       "      <th>UTYP1</th>\n",
       "      <th>ULICHTVERH</th>\n",
       "      <th>STRZUSTAND</th>\n",
       "      <th>IstRad</th>\n",
       "      <th>IstPKW</th>\n",
       "      <th>IstFuss</th>\n",
       "      <th>IstKrad</th>\n",
       "      <th>IstGkfz</th>\n",
       "      <th>IstSonstig</th>\n",
       "    </tr>\n",
       "  </thead>\n",
       "  <tbody>\n",
       "    <tr>\n",
       "      <th>count</th>\n",
       "      <td>9019.000000</td>\n",
       "      <td>9019.0</td>\n",
       "      <td>9019.000000</td>\n",
       "      <td>9019.000000</td>\n",
       "      <td>9019.000000</td>\n",
       "      <td>9019.000000</td>\n",
       "      <td>9019.000000</td>\n",
       "      <td>9019.000000</td>\n",
       "      <td>9019.000000</td>\n",
       "      <td>9019.000000</td>\n",
       "      <td>9019.000000</td>\n",
       "      <td>9019.000000</td>\n",
       "      <td>9019.000000</td>\n",
       "      <td>9019.000000</td>\n",
       "      <td>9019.0</td>\n",
       "      <td>9019.000000</td>\n",
       "      <td>9019.000000</td>\n",
       "      <td>9019.000000</td>\n",
       "      <td>6839.000000</td>\n",
       "      <td>9019.000000</td>\n",
       "    </tr>\n",
       "    <tr>\n",
       "      <th>mean</th>\n",
       "      <td>114268.746757</td>\n",
       "      <td>2.0</td>\n",
       "      <td>3.336179</td>\n",
       "      <td>6.573013</td>\n",
       "      <td>348.808848</td>\n",
       "      <td>2017.525225</td>\n",
       "      <td>6.855305</td>\n",
       "      <td>13.233285</td>\n",
       "      <td>4.062535</td>\n",
       "      <td>2.905200</td>\n",
       "      <td>3.628784</td>\n",
       "      <td>3.799867</td>\n",
       "      <td>0.321100</td>\n",
       "      <td>0.227852</td>\n",
       "      <td>1.0</td>\n",
       "      <td>0.681894</td>\n",
       "      <td>0.082271</td>\n",
       "      <td>0.010201</td>\n",
       "      <td>0.020471</td>\n",
       "      <td>0.088480</td>\n",
       "    </tr>\n",
       "    <tr>\n",
       "      <th>std</th>\n",
       "      <td>42798.115215</td>\n",
       "      <td>0.0</td>\n",
       "      <td>1.702043</td>\n",
       "      <td>4.626534</td>\n",
       "      <td>168.811413</td>\n",
       "      <td>1.118456</td>\n",
       "      <td>2.949343</td>\n",
       "      <td>4.578789</td>\n",
       "      <td>1.696236</td>\n",
       "      <td>0.297089</td>\n",
       "      <td>1.948812</td>\n",
       "      <td>1.786564</td>\n",
       "      <td>0.699784</td>\n",
       "      <td>0.435806</td>\n",
       "      <td>0.0</td>\n",
       "      <td>0.465767</td>\n",
       "      <td>0.274792</td>\n",
       "      <td>0.100488</td>\n",
       "      <td>0.141615</td>\n",
       "      <td>0.284007</td>\n",
       "    </tr>\n",
       "    <tr>\n",
       "      <th>min</th>\n",
       "      <td>6023.000000</td>\n",
       "      <td>2.0</td>\n",
       "      <td>1.000000</td>\n",
       "      <td>1.000000</td>\n",
       "      <td>101.000000</td>\n",
       "      <td>2016.000000</td>\n",
       "      <td>1.000000</td>\n",
       "      <td>0.000000</td>\n",
       "      <td>1.000000</td>\n",
       "      <td>1.000000</td>\n",
       "      <td>0.000000</td>\n",
       "      <td>1.000000</td>\n",
       "      <td>0.000000</td>\n",
       "      <td>0.000000</td>\n",
       "      <td>1.0</td>\n",
       "      <td>0.000000</td>\n",
       "      <td>0.000000</td>\n",
       "      <td>0.000000</td>\n",
       "      <td>0.000000</td>\n",
       "      <td>0.000000</td>\n",
       "    </tr>\n",
       "    <tr>\n",
       "      <th>25%</th>\n",
       "      <td>97697.000000</td>\n",
       "      <td>2.0</td>\n",
       "      <td>2.000000</td>\n",
       "      <td>3.000000</td>\n",
       "      <td>212.000000</td>\n",
       "      <td>2017.000000</td>\n",
       "      <td>5.000000</td>\n",
       "      <td>9.000000</td>\n",
       "      <td>3.000000</td>\n",
       "      <td>3.000000</td>\n",
       "      <td>3.000000</td>\n",
       "      <td>2.000000</td>\n",
       "      <td>0.000000</td>\n",
       "      <td>0.000000</td>\n",
       "      <td>1.0</td>\n",
       "      <td>0.000000</td>\n",
       "      <td>0.000000</td>\n",
       "      <td>0.000000</td>\n",
       "      <td>0.000000</td>\n",
       "      <td>0.000000</td>\n",
       "    </tr>\n",
       "    <tr>\n",
       "      <th>50%</th>\n",
       "      <td>124491.000000</td>\n",
       "      <td>2.0</td>\n",
       "      <td>3.000000</td>\n",
       "      <td>5.000000</td>\n",
       "      <td>320.000000</td>\n",
       "      <td>2018.000000</td>\n",
       "      <td>7.000000</td>\n",
       "      <td>14.000000</td>\n",
       "      <td>4.000000</td>\n",
       "      <td>3.000000</td>\n",
       "      <td>5.000000</td>\n",
       "      <td>3.000000</td>\n",
       "      <td>0.000000</td>\n",
       "      <td>0.000000</td>\n",
       "      <td>1.0</td>\n",
       "      <td>1.000000</td>\n",
       "      <td>0.000000</td>\n",
       "      <td>0.000000</td>\n",
       "      <td>0.000000</td>\n",
       "      <td>0.000000</td>\n",
       "    </tr>\n",
       "    <tr>\n",
       "      <th>75%</th>\n",
       "      <td>128307.000000</td>\n",
       "      <td>2.0</td>\n",
       "      <td>5.000000</td>\n",
       "      <td>9.000000</td>\n",
       "      <td>508.000000</td>\n",
       "      <td>2019.000000</td>\n",
       "      <td>9.000000</td>\n",
       "      <td>17.000000</td>\n",
       "      <td>5.000000</td>\n",
       "      <td>3.000000</td>\n",
       "      <td>5.000000</td>\n",
       "      <td>6.000000</td>\n",
       "      <td>0.000000</td>\n",
       "      <td>0.000000</td>\n",
       "      <td>1.0</td>\n",
       "      <td>1.000000</td>\n",
       "      <td>0.000000</td>\n",
       "      <td>0.000000</td>\n",
       "      <td>0.000000</td>\n",
       "      <td>0.000000</td>\n",
       "    </tr>\n",
       "    <tr>\n",
       "      <th>max</th>\n",
       "      <td>163331.000000</td>\n",
       "      <td>2.0</td>\n",
       "      <td>7.000000</td>\n",
       "      <td>20.000000</td>\n",
       "      <td>718.000000</td>\n",
       "      <td>2019.000000</td>\n",
       "      <td>12.000000</td>\n",
       "      <td>23.000000</td>\n",
       "      <td>7.000000</td>\n",
       "      <td>3.000000</td>\n",
       "      <td>9.000000</td>\n",
       "      <td>7.000000</td>\n",
       "      <td>2.000000</td>\n",
       "      <td>2.000000</td>\n",
       "      <td>1.0</td>\n",
       "      <td>1.000000</td>\n",
       "      <td>1.000000</td>\n",
       "      <td>1.000000</td>\n",
       "      <td>1.000000</td>\n",
       "      <td>1.000000</td>\n",
       "    </tr>\n",
       "  </tbody>\n",
       "</table>\n",
       "</div>"
      ],
      "text/plain": [
       "            OBJECTID   ULAND      UREGBEZ       UKREIS    UGEMEINDE  \\\n",
       "count    9019.000000  9019.0  9019.000000  9019.000000  9019.000000   \n",
       "mean   114268.746757     2.0     3.336179     6.573013   348.808848   \n",
       "std     42798.115215     0.0     1.702043     4.626534   168.811413   \n",
       "min      6023.000000     2.0     1.000000     1.000000   101.000000   \n",
       "25%     97697.000000     2.0     2.000000     3.000000   212.000000   \n",
       "50%    124491.000000     2.0     3.000000     5.000000   320.000000   \n",
       "75%    128307.000000     2.0     5.000000     9.000000   508.000000   \n",
       "max    163331.000000     2.0     7.000000    20.000000   718.000000   \n",
       "\n",
       "             UJAHR       UMONAT      USTUNDE   UWOCHENTAG   UKATEGORIE  \\\n",
       "count  9019.000000  9019.000000  9019.000000  9019.000000  9019.000000   \n",
       "mean   2017.525225     6.855305    13.233285     4.062535     2.905200   \n",
       "std       1.118456     2.949343     4.578789     1.696236     0.297089   \n",
       "min    2016.000000     1.000000     0.000000     1.000000     1.000000   \n",
       "25%    2017.000000     5.000000     9.000000     3.000000     3.000000   \n",
       "50%    2018.000000     7.000000    14.000000     4.000000     3.000000   \n",
       "75%    2019.000000     9.000000    17.000000     5.000000     3.000000   \n",
       "max    2019.000000    12.000000    23.000000     7.000000     3.000000   \n",
       "\n",
       "              UART        UTYP1   ULICHTVERH   STRZUSTAND  IstRad  \\\n",
       "count  9019.000000  9019.000000  9019.000000  9019.000000  9019.0   \n",
       "mean      3.628784     3.799867     0.321100     0.227852     1.0   \n",
       "std       1.948812     1.786564     0.699784     0.435806     0.0   \n",
       "min       0.000000     1.000000     0.000000     0.000000     1.0   \n",
       "25%       3.000000     2.000000     0.000000     0.000000     1.0   \n",
       "50%       5.000000     3.000000     0.000000     0.000000     1.0   \n",
       "75%       5.000000     6.000000     0.000000     0.000000     1.0   \n",
       "max       9.000000     7.000000     2.000000     2.000000     1.0   \n",
       "\n",
       "            IstPKW      IstFuss      IstKrad      IstGkfz   IstSonstig  \n",
       "count  9019.000000  9019.000000  9019.000000  6839.000000  9019.000000  \n",
       "mean      0.681894     0.082271     0.010201     0.020471     0.088480  \n",
       "std       0.465767     0.274792     0.100488     0.141615     0.284007  \n",
       "min       0.000000     0.000000     0.000000     0.000000     0.000000  \n",
       "25%       0.000000     0.000000     0.000000     0.000000     0.000000  \n",
       "50%       1.000000     0.000000     0.000000     0.000000     0.000000  \n",
       "75%       1.000000     0.000000     0.000000     0.000000     0.000000  \n",
       "max       1.000000     1.000000     1.000000     1.000000     1.000000  "
      ]
     },
     "execution_count": 42,
     "metadata": {},
     "output_type": "execute_result"
    }
   ],
   "source": [
    "df.describe()"
   ]
  },
  {
   "cell_type": "code",
   "execution_count": 43,
   "metadata": {},
   "outputs": [
    {
     "name": "stderr",
     "output_type": "stream",
     "text": [
      "/Users/dajanabadenhop/opt/anaconda3/lib/python3.8/site-packages/pandas/core/indexing.py:966: SettingWithCopyWarning: \n",
      "A value is trying to be set on a copy of a slice from a DataFrame.\n",
      "Try using .loc[row_indexer,col_indexer] = value instead\n",
      "\n",
      "See the caveats in the documentation: https://pandas.pydata.org/pandas-docs/stable/user_guide/indexing.html#returning-a-view-versus-a-copy\n",
      "  self.obj[item] = s\n"
     ]
    }
   ],
   "source": [
    "#Making the data more \"readable\" with clear names instead of number codes\n",
    "#Renaming districs\n",
    "df.loc[df[\"UREGBEZ\"]==1, \"UREGBEZ\"] = \"HH-Mitte\"\n",
    "df.loc[df[\"UREGBEZ\"]==2, \"UREGBEZ\"] = \"Altona\"\n",
    "df.loc[df['UREGBEZ']==3, \"UREGBEZ\"] = \"Eimsbüttel\"\n",
    "df.loc[df['UREGBEZ']==4, \"UREGBEZ\"] = \"HH-Nord\"\n",
    "df.loc[df['UREGBEZ']==5, \"UREGBEZ\"] = \"Wandsbek\"\n",
    "df.loc[df['UREGBEZ']==6, \"UREGBEZ\"] = \"Bergedorf\"\n",
    "df.loc[df['UREGBEZ']==7, \"UREGBEZ\"] = \"Harburg\""
   ]
  },
  {
   "cell_type": "code",
   "execution_count": 44,
   "metadata": {},
   "outputs": [],
   "source": [
    "#NICHT SICHER OB DAS DIE ANALYSE DANACH VERHINDERT!!\n",
    "\n",
    "#Renaming the accident category\n",
    "#df.loc[df[\"UKATEGORIE\"]==1, \"UREGBEZ\"] = \"accident with fatalities\"\n",
    "#df.loc[df[\"UKATEGORIE\"]==2, \"UREGBEZ\"] = \"accident with serious injuries\"\n",
    "#df.loc[df[\"UKATEGORIE\"]==3, \"UREGBEZ\"] = \"accident with minor injuries\""
   ]
  },
  {
   "cell_type": "code",
   "execution_count": 45,
   "metadata": {},
   "outputs": [
    {
     "name": "stdout",
     "output_type": "stream",
     "text": [
      "        OBJECTID  ULAND     UREGBEZ  UKREIS  UGEMEINDE  UJAHR  UMONAT  \\\n",
      "6188        6189      2   Bergedorf       2        603   2016       4   \n",
      "6572        6573      2     HH-Nord       2        405   2016       2   \n",
      "6589        6590      2     HH-Nord       8        418   2016       3   \n",
      "6606        6607      2  Eimsbüttel       6        318   2016       3   \n",
      "6695        6696      2      Altona       9        221   2016       1   \n",
      "...          ...    ...         ...     ...        ...    ...     ...   \n",
      "163316    163317      2      Altona       5        215   2019      12   \n",
      "163319    163320      2    HH-Mitte      18        139   2019      12   \n",
      "163321    163322      2  Eimsbüttel       2        312   2019      12   \n",
      "163323    163324      2     Harburg      14        715   2019      12   \n",
      "163330    163331      2    Wandsbek       5        513   2019      12   \n",
      "\n",
      "        USTUNDE  UWOCHENTAG  UKATEGORIE  ...  IstRad  IstPKW  IstFuss  \\\n",
      "6188         15           2           3  ...       1       1        0   \n",
      "6572         15           4           3  ...       1       1        0   \n",
      "6589         14           6           3  ...       1       0        1   \n",
      "6606         13           7           3  ...       1       1        0   \n",
      "6695          8           6           3  ...       1       1        0   \n",
      "...         ...         ...         ...  ...     ...     ...      ...   \n",
      "163316        0           1           3  ...       1       0        0   \n",
      "163319        5           7           3  ...       1       1        0   \n",
      "163321       15           1           3  ...       1       1        0   \n",
      "163323        7           6           3  ...       1       1        0   \n",
      "163330        8           6           3  ...       1       1        0   \n",
      "\n",
      "        IstKrad  IstGkfz  IstSonstig                 LINREFX  \\\n",
      "6188          0      0.0           0  582353.394399999990000   \n",
      "6572          0      0.0           0  565114.366000000040000   \n",
      "6589          0      0.0           0  567467.747500000060000   \n",
      "6606          0      0.0           0  562842.417900000000000   \n",
      "6695          0      0.0           0  555294.017299999950000   \n",
      "...         ...      ...         ...                     ...   \n",
      "163316        0      0.0           0  561486.715081439350000   \n",
      "163319        0      0.0           0  564148.370146343480000   \n",
      "163321        0      0.0           0  565546.308511899780000   \n",
      "163323        0      0.0           0  556730.151350956410000   \n",
      "163330        0      0.0           0  573846.282999999820000   \n",
      "\n",
      "                        LINREFY           XGCSWGS84           YGCSWGS84  \n",
      "6188    5926138.468299999800000  10.240903380000001  53.477779904000002  \n",
      "6572    5939258.010700000500000   9.983922804000001  53.598103684000002  \n",
      "6589    5937257.759899999900000  10.019045340000000  53.579829556000000  \n",
      "6606    5941421.184999999600000   9.950033651000000  53.617822046999997  \n",
      "6695    5936479.404400000300000   9.835057024999999  53.574258757000003  \n",
      "...                         ...                 ...                 ...  \n",
      "163316  5935815.524420011800000   9.928436382000029  53.567602927000053  \n",
      "163319  5932462.530353844200000   9.967932663000056  53.537149892000059  \n",
      "163321  5935197.450059652300000   9.989595971000028  53.561556742000050  \n",
      "163323  5924724.042118394700000   9.854613961000041  53.468452494000076  \n",
      "163330  5937766.195000002200000  10.115489026000034  53.583539502000065  \n",
      "\n",
      "[9019 rows x 24 columns]\n"
     ]
    }
   ],
   "source": [
    "print(df)"
   ]
  },
  {
   "cell_type": "code",
   "execution_count": 46,
   "metadata": {},
   "outputs": [],
   "source": [
    "#Exporting data as a single file\n",
    "#df.to_csv(r'merged_data_all_years.csv', index = False, sep=\";\")"
   ]
  },
  {
   "cell_type": "markdown",
   "metadata": {},
   "source": [
    "### Describe data<br>\n"
   ]
  },
  {
   "cell_type": "code",
   "execution_count": 35,
   "metadata": {},
   "outputs": [
    {
     "data": {
      "text/plain": [
       "Text(0.5, 1.0, 'Amount of Accidents per Month per Year')"
      ]
     },
     "execution_count": 35,
     "metadata": {},
     "output_type": "execute_result"
    },
    {
     "data": {
      "image/png": "[encoded data removed]",
      "text/plain": [
       "<Figure size 432x288 with 1 Axes>"
      ]
     },
     "metadata": {
      "needs_background": "light"
     },
     "output_type": "display_data"
    }
   ],
   "source": [
    "# Getting an overview of the amounts of bike accidents per months per year (2016-2019)\n",
    "sns.countplot(x=\"UMONAT\", hue=\"UJAHR\", data=df)\n",
    "plt.title('Amount of Accidents per Month per Year')"
   ]
  },
  {
   "cell_type": "code",
   "execution_count": 36,
   "metadata": {},
   "outputs": [],
   "source": [
    "# In the summer months, the amount of bike accidents is higher than in the winter months\n",
    "# It seems like the amount of accidents might be more in 2018 and 2019 compared to 2016 and 2017"
   ]
  },
  {
   "cell_type": "code",
   "execution_count": 47,
   "metadata": {},
   "outputs": [
    {
     "data": {
      "text/plain": [
       "2016    2206\n",
       "2017    2180\n",
       "2018    2323\n",
       "2019    2310\n",
       "Name: UJAHR, dtype: int64"
      ]
     },
     "execution_count": 47,
     "metadata": {},
     "output_type": "execute_result"
    },
    {
     "data": {
      "image/png": "[encoded data removed]",
      "text/plain": [
       "<Figure size 432x288 with 1 Axes>"
      ]
     },
     "metadata": {
      "needs_background": "light"
     },
     "output_type": "display_data"
    }
   ],
   "source": [
    "# Comparing the total amount of accidents per year\n",
    "sns.countplot(data=df, x=\"UJAHR\")\n",
    "plt.title('Amount of Accidents per Year')\n",
    "pd.value_counts(df[\"UJAHR\"]).sort_index()"
   ]
  },
  {
   "cell_type": "code",
   "execution_count": null,
   "metadata": {},
   "outputs": [],
   "source": [
    "# More accidents in 2019 and 2018 than in 2017 and 2016"
   ]
  },
  {
   "cell_type": "code",
   "execution_count": 52,
   "metadata": {},
   "outputs": [
    {
     "data": {
      "text/plain": [
       "1     522\n",
       "2    1461\n",
       "3    1614\n",
       "4    1653\n",
       "5    1555\n",
       "6    1531\n",
       "7     683\n",
       "Name: UWOCHENTAG, dtype: int64"
      ]
     },
     "execution_count": 52,
     "metadata": {},
     "output_type": "execute_result"
    },
    {
     "data": {
      "image/png": "[encoded data removed]",
      "text/plain": [
       "<Figure size 432x288 with 1 Axes>"
      ]
     },
     "metadata": {
      "needs_background": "light"
     },
     "output_type": "display_data"
    }
   ],
   "source": [
    "# Comparing the total amount of accidents per weekday\n",
    "sns.countplot(data=df, x=\"UWOCHENTAG\")\n",
    "plt.title('Amounts of accidents on different weekdays')\n",
    "pd.value_counts(df[\"UWOCHENTAG\"]).sort_index()"
   ]
  },
  {
   "cell_type": "code",
   "execution_count": null,
   "metadata": {},
   "outputs": [],
   "source": [
    "# 1 = Sunday, 7 = Saturday\n",
    "# Most accidents appear during the week from Monday until Friday"
   ]
  },
  {
   "cell_type": "code",
   "execution_count": 54,
   "metadata": {},
   "outputs": [
    {
     "data": {
      "text/plain": [
       "Text(0.5, 1.0, 'Amounts of accidents on different times of the day')"
      ]
     },
     "execution_count": 54,
     "metadata": {},
     "output_type": "execute_result"
    },
    {
     "data": {
      "image/png": "[encoded data removed]",
      "text/plain": [
       "<Figure size 432x288 with 1 Axes>"
      ]
     },
     "metadata": {
      "needs_background": "light"
     },
     "output_type": "display_data"
    }
   ],
   "source": [
    "# Comparing the total amount of accidents depending on the time of the day\n",
    "sns.countplot(data=df, x=\"USTUNDE\")\n",
    "plt.title('Amounts of accidents on different times of the day')"
   ]
  },
  {
   "cell_type": "code",
   "execution_count": null,
   "metadata": {},
   "outputs": [],
   "source": [
    "# Most accidents appear in the morning hours and in the late afternoon / early evening"
   ]
  },
  {
   "cell_type": "code",
   "execution_count": 57,
   "metadata": {},
   "outputs": [
    {
     "data": {
      "text/plain": [
       "Altona        1514\n",
       "Bergdorf       427\n",
       "Eimsbüttel    1569\n",
       "HH-Mitte      1708\n",
       "HH-Nord       1759\n",
       "Harburg        419\n",
       "Wandsbek      1623\n",
       "Name: UREGBEZ, dtype: int64"
      ]
     },
     "execution_count": 57,
     "metadata": {},
     "output_type": "execute_result"
    },
    {
     "data": {
      "image/png": "[encoded data removed]",
      "text/plain": [
       "<Figure size 432x288 with 1 Axes>"
      ]
     },
     "metadata": {
      "needs_background": "light"
     },
     "output_type": "display_data"
    }
   ],
   "source": [
    "# Comparing the different amount of bike accidents in the different areas of Hamburg\n",
    "sns.countplot(data=df, x=\"UREGBEZ\")\n",
    "plt.title('Accidents in the different areas of Hamburg')\n",
    "pd.value_counts(df[\"UREGBEZ\"]).sort_index()"
   ]
  },
  {
   "cell_type": "code",
   "execution_count": null,
   "metadata": {},
   "outputs": [],
   "source": [
    "# The fewest accidents appear in Bergedorf and Harburg"
   ]
  },
  {
   "cell_type": "code",
   "execution_count": 50,
   "metadata": {},
   "outputs": [
    {
     "data": {
      "text/plain": [
       "0    7027\n",
       "1    1929\n",
       "2      63\n",
       "Name: STRZUSTAND, dtype: int64"
      ]
     },
     "execution_count": 50,
     "metadata": {},
     "output_type": "execute_result"
    },
    {
     "data": {
      "image/png": "[encoded data removed]",
      "text/plain": [
       "<Figure size 432x288 with 1 Axes>"
      ]
     },
     "metadata": {
      "needs_background": "light"
     },
     "output_type": "display_data"
    }
   ],
   "source": [
    "# Comparing the different street conditions while the bike accidents appeared\n",
    "# 0 = dry, 1 = wet/damp/slippery, 2 = icy\n",
    "sns.countplot(data=df, x=\"STRZUSTAND\")\n",
    "plt.title('Amounts of accidents in different street conditions')\n",
    "pd.value_counts(df[\"STRZUSTAND\"]).sort_index()"
   ]
  },
  {
   "cell_type": "code",
   "execution_count": null,
   "metadata": {},
   "outputs": [],
   "source": [
    "# Most accidents appear when the streets are dry, less when the streets are slippery  \n",
    "# and only a few when the streets are icy"
   ]
  },
  {
   "cell_type": "code",
   "execution_count": 48,
   "metadata": {},
   "outputs": [
    {
     "data": {
      "text/plain": [
       "0    7348\n",
       "1     446\n",
       "2    1225\n",
       "Name: ULICHTVERH, dtype: int64"
      ]
     },
     "execution_count": 48,
     "metadata": {},
     "output_type": "execute_result"
    },
    {
     "data": {
      "image/png": "[encoded data removed]",
      "text/plain": [
       "<Figure size 432x288 with 1 Axes>"
      ]
     },
     "metadata": {
      "needs_background": "light"
     },
     "output_type": "display_data"
    }
   ],
   "source": [
    "# Comparing the different lighting conditions while the bike accidents appeared\n",
    "# 0 = daylight, 1 = dusk/dawn, 2 = darkness\n",
    "sns.countplot(data=df, x=\"ULICHTVERH\")\n",
    "plt.title('Amounts of accidents in different light conditions')\n",
    "pd.value_counts(df[\"ULICHTVERH\"]).sort_index()"
   ]
  },
  {
   "cell_type": "code",
   "execution_count": null,
   "metadata": {},
   "outputs": [],
   "source": [
    "# Most of the accidents occure in daylight"
   ]
  },
  {
   "cell_type": "code",
   "execution_count": 58,
   "metadata": {},
   "outputs": [
    {
     "data": {
      "text/plain": [
       "1      11\n",
       "2     833\n",
       "3    8175\n",
       "Name: UKATEGORIE, dtype: int64"
      ]
     },
     "execution_count": 58,
     "metadata": {},
     "output_type": "execute_result"
    },
    {
     "data": {
      "image/png": "[encoded data removed]",
      "text/plain": [
       "<Figure size 432x288 with 1 Axes>"
      ]
     },
     "metadata": {
      "needs_background": "light"
     },
     "output_type": "display_data"
    }
   ],
   "source": [
    "# Comparing the different lighting conditions while the bike accidents appeared\n",
    "# 1 = deadly, 2 = seriously injured, 3 = lightly injured\n",
    "sns.countplot(data=df, x=\"UKATEGORIE\")\n",
    "plt.title('Accident severity')\n",
    "pd.value_counts(df[\"UKATEGORIE\"]).sort_index()"
   ]
  },
  {
   "cell_type": "code",
   "execution_count": null,
   "metadata": {},
   "outputs": [],
   "source": [
    "# Most of the people in accidents are slightly injured, some are seriously injured\n",
    "# and 11 people died in bike accidents"
   ]
  },
  {
   "cell_type": "code",
   "execution_count": null,
   "metadata": {},
   "outputs": [],
   "source": [
    "sns.pairplot"
   ]
  },
  {
   "cell_type": "markdown",
   "metadata": {},
   "source": [
    "# Heatmap<br>"
   ]
  },
  {
   "cell_type": "code",
   "execution_count": 29,
   "metadata": {},
   "outputs": [],
   "source": [
    "#Configuration of the map\n",
    "config = {\n",
    "'version': 'v1',\n",
    "'config': {\n",
    "    'mapState': {\n",
    "        'latitude': 53.6,\n",
    "        'longitude': 10,\n",
    "        'zoom': 8\n",
    "    }}}\n"
   ]
  },
  {
   "cell_type": "code",
   "execution_count": 17,
   "metadata": {},
   "outputs": [
    {
     "ename": "NameError",
     "evalue": "name 'KeplerGl' is not defined",
     "output_type": "error",
     "traceback": [
      "\u001b[1;31m---------------------------------------------------------------------------\u001b[0m",
      "\u001b[1;31mNameError\u001b[0m                                 Traceback (most recent call last)",
      "\u001b[1;32m<ipython-input-17-677cda7dd295>\u001b[0m in \u001b[0;36m<module>\u001b[1;34m\u001b[0m\n\u001b[0;32m      1\u001b[0m \u001b[1;31m#load the map\u001b[0m\u001b[1;33m\u001b[0m\u001b[1;33m\u001b[0m\u001b[1;33m\u001b[0m\u001b[0m\n\u001b[1;32m----> 2\u001b[1;33m \u001b[0mmap_1\u001b[0m \u001b[1;33m=\u001b[0m \u001b[0mKeplerGl\u001b[0m\u001b[1;33m(\u001b[0m\u001b[0mheight\u001b[0m\u001b[1;33m=\u001b[0m\u001b[1;36m800\u001b[0m\u001b[1;33m,\u001b[0m \u001b[0mdata\u001b[0m\u001b[1;33m=\u001b[0m\u001b[1;33m{\u001b[0m\u001b[1;34m\"data_1\"\u001b[0m\u001b[1;33m:\u001b[0m \u001b[0mdf\u001b[0m\u001b[1;33m}\u001b[0m\u001b[1;33m,\u001b[0m \u001b[0mconfig\u001b[0m\u001b[1;33m=\u001b[0m\u001b[0mconfig\u001b[0m\u001b[1;33m,\u001b[0m \u001b[1;33m)\u001b[0m\u001b[1;33m\u001b[0m\u001b[1;33m\u001b[0m\u001b[0m\n\u001b[0m",
      "\u001b[1;31mNameError\u001b[0m: name 'KeplerGl' is not defined"
     ]
    }
   ],
   "source": [
    "#load the map \n",
    "map_1 = KeplerGl(height=800, data={\"data_1\": df}, config=config, )"
   ]
  },
  {
   "cell_type": "code",
   "execution_count": 1,
   "metadata": {},
   "outputs": [
    {
     "ename": "NameError",
     "evalue": "name 'map_1' is not defined",
     "output_type": "error",
     "traceback": [
      "\u001b[1;31m---------------------------------------------------------------------------\u001b[0m",
      "\u001b[1;31mNameError\u001b[0m                                 Traceback (most recent call last)",
      "\u001b[1;32m<ipython-input-1-ea350ac568fd>\u001b[0m in \u001b[0;36m<module>\u001b[1;34m\u001b[0m\n\u001b[0;32m      1\u001b[0m \u001b[1;31m#show the map\u001b[0m\u001b[1;33m\u001b[0m\u001b[1;33m\u001b[0m\u001b[1;33m\u001b[0m\u001b[0m\n\u001b[1;32m----> 2\u001b[1;33m \u001b[0mmap_1\u001b[0m\u001b[1;33m\u001b[0m\u001b[1;33m\u001b[0m\u001b[0m\n\u001b[0m",
      "\u001b[1;31mNameError\u001b[0m: name 'map_1' is not defined"
     ]
    }
   ],
   "source": [
    "#show the map\n",
    "#it is important to select a layer\n",
    "map_1"
   ]
  },
  {
   "cell_type": "code",
   "execution_count": null,
   "metadata": {},
   "outputs": [],
   "source": []
  }
 ],
 "metadata": {
  "kernelspec": {
   "display_name": "Python 3",
   "language": "python",
   "name": "python3"
  },
  "language_info": {
   "codemirror_mode": {
    "name": "ipython",
    "version": 3
   },
   "file_extension": ".py",
   "mimetype": "text/x-python",
   "name": "python",
   "nbconvert_exporter": "python",
   "pygments_lexer": "ipython3",
   "version": "3.8.3"
  }
 },
 "nbformat": 4,
 "nbformat_minor": 4
}
