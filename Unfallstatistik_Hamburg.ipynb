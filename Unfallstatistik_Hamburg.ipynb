{
 "cells": [
  {
   "cell_type": "code",
   "execution_count": 6,
   "metadata": {},
   "outputs": [],
   "source": [
    "import numpy as np\n",
    "import pandas as pd\n",
    "import matplotlib.pyplot as plt\n",
    "import seaborn as sns\n",
    "\n",
    "\n",
    "file_path = \"data/2019/Unfallorte2019_LinRef.txt\""
   ]
  },
  {
   "cell_type": "code",
   "execution_count": 7,
   "metadata": {},
   "outputs": [],
   "source": [
    "df = pd.read_csv(file_path, sep=\";\")"
   ]
  },
  {
   "cell_type": "code",
   "execution_count": 8,
   "metadata": {},
   "outputs": [
    {
     "data": {
      "text/html": [
       "<div>\n",
       "<style scoped>\n",
       "    .dataframe tbody tr th:only-of-type {\n",
       "        vertical-align: middle;\n",
       "    }\n",
       "\n",
       "    .dataframe tbody tr th {\n",
       "        vertical-align: top;\n",
       "    }\n",
       "\n",
       "    .dataframe thead th {\n",
       "        text-align: right;\n",
       "    }\n",
       "</style>\n",
       "<table border=\"1\" class=\"dataframe\">\n",
       "  <thead>\n",
       "    <tr style=\"text-align: right;\">\n",
       "      <th></th>\n",
       "      <th>OBJECTID</th>\n",
       "      <th>ULAND</th>\n",
       "      <th>UREGBEZ</th>\n",
       "      <th>UKREIS</th>\n",
       "      <th>UGEMEINDE</th>\n",
       "      <th>UJAHR</th>\n",
       "      <th>UMONAT</th>\n",
       "      <th>USTUNDE</th>\n",
       "      <th>UWOCHENTAG</th>\n",
       "      <th>UKATEGORIE</th>\n",
       "      <th>...</th>\n",
       "      <th>IstPKW</th>\n",
       "      <th>IstFuss</th>\n",
       "      <th>IstKrad</th>\n",
       "      <th>IstGkfz</th>\n",
       "      <th>IstSonstige</th>\n",
       "      <th>LINREFX</th>\n",
       "      <th>LINREFY</th>\n",
       "      <th>XGCSWGS84</th>\n",
       "      <th>YGCSWGS84</th>\n",
       "      <th>STRZUSTAND</th>\n",
       "    </tr>\n",
       "  </thead>\n",
       "  <tbody>\n",
       "    <tr>\n",
       "      <th>0</th>\n",
       "      <td>1</td>\n",
       "      <td>1</td>\n",
       "      <td>0</td>\n",
       "      <td>57</td>\n",
       "      <td>25</td>\n",
       "      <td>2019</td>\n",
       "      <td>1</td>\n",
       "      <td>5</td>\n",
       "      <td>5</td>\n",
       "      <td>3</td>\n",
       "      <td>...</td>\n",
       "      <td>1</td>\n",
       "      <td>0</td>\n",
       "      <td>0</td>\n",
       "      <td>0</td>\n",
       "      <td>0</td>\n",
       "      <td>579075.960927</td>\n",
       "      <td>6.023531e+06</td>\n",
       "      <td>10.216714</td>\n",
       "      <td>54.353460</td>\n",
       "      <td>1</td>\n",
       "    </tr>\n",
       "    <tr>\n",
       "      <th>1</th>\n",
       "      <td>2</td>\n",
       "      <td>1</td>\n",
       "      <td>0</td>\n",
       "      <td>3</td>\n",
       "      <td>0</td>\n",
       "      <td>2019</td>\n",
       "      <td>1</td>\n",
       "      <td>6</td>\n",
       "      <td>2</td>\n",
       "      <td>3</td>\n",
       "      <td>...</td>\n",
       "      <td>1</td>\n",
       "      <td>0</td>\n",
       "      <td>0</td>\n",
       "      <td>0</td>\n",
       "      <td>0</td>\n",
       "      <td>611914.920398</td>\n",
       "      <td>5.968420e+06</td>\n",
       "      <td>10.701388</td>\n",
       "      <td>53.852200</td>\n",
       "      <td>1</td>\n",
       "    </tr>\n",
       "    <tr>\n",
       "      <th>2</th>\n",
       "      <td>3</td>\n",
       "      <td>1</td>\n",
       "      <td>0</td>\n",
       "      <td>53</td>\n",
       "      <td>91</td>\n",
       "      <td>2019</td>\n",
       "      <td>1</td>\n",
       "      <td>7</td>\n",
       "      <td>6</td>\n",
       "      <td>3</td>\n",
       "      <td>...</td>\n",
       "      <td>1</td>\n",
       "      <td>0</td>\n",
       "      <td>0</td>\n",
       "      <td>0</td>\n",
       "      <td>0</td>\n",
       "      <td>597807.670711</td>\n",
       "      <td>5.939159e+06</td>\n",
       "      <td>10.477760</td>\n",
       "      <td>53.592131</td>\n",
       "      <td>1</td>\n",
       "    </tr>\n",
       "    <tr>\n",
       "      <th>3</th>\n",
       "      <td>4</td>\n",
       "      <td>1</td>\n",
       "      <td>0</td>\n",
       "      <td>62</td>\n",
       "      <td>76</td>\n",
       "      <td>2019</td>\n",
       "      <td>1</td>\n",
       "      <td>5</td>\n",
       "      <td>6</td>\n",
       "      <td>3</td>\n",
       "      <td>...</td>\n",
       "      <td>1</td>\n",
       "      <td>0</td>\n",
       "      <td>0</td>\n",
       "      <td>0</td>\n",
       "      <td>0</td>\n",
       "      <td>570688.991616</td>\n",
       "      <td>5.957626e+06</td>\n",
       "      <td>10.072329</td>\n",
       "      <td>53.762448</td>\n",
       "      <td>2</td>\n",
       "    </tr>\n",
       "    <tr>\n",
       "      <th>4</th>\n",
       "      <td>5</td>\n",
       "      <td>1</td>\n",
       "      <td>0</td>\n",
       "      <td>1</td>\n",
       "      <td>0</td>\n",
       "      <td>2019</td>\n",
       "      <td>1</td>\n",
       "      <td>8</td>\n",
       "      <td>5</td>\n",
       "      <td>3</td>\n",
       "      <td>...</td>\n",
       "      <td>1</td>\n",
       "      <td>0</td>\n",
       "      <td>0</td>\n",
       "      <td>0</td>\n",
       "      <td>0</td>\n",
       "      <td>530059.818000</td>\n",
       "      <td>6.073467e+06</td>\n",
       "      <td>9.467681</td>\n",
       "      <td>54.807468</td>\n",
       "      <td>1</td>\n",
       "    </tr>\n",
       "  </tbody>\n",
       "</table>\n",
       "<p>5 rows × 24 columns</p>\n",
       "</div>"
      ],
      "text/plain": [
       "   OBJECTID  ULAND  UREGBEZ  UKREIS  UGEMEINDE  UJAHR  UMONAT  USTUNDE  \\\n",
       "0         1      1        0      57         25   2019       1        5   \n",
       "1         2      1        0       3          0   2019       1        6   \n",
       "2         3      1        0      53         91   2019       1        7   \n",
       "3         4      1        0      62         76   2019       1        5   \n",
       "4         5      1        0       1          0   2019       1        8   \n",
       "\n",
       "   UWOCHENTAG  UKATEGORIE  ...  IstPKW  IstFuss  IstKrad  IstGkfz  \\\n",
       "0           5           3  ...       1        0        0        0   \n",
       "1           2           3  ...       1        0        0        0   \n",
       "2           6           3  ...       1        0        0        0   \n",
       "3           6           3  ...       1        0        0        0   \n",
       "4           5           3  ...       1        0        0        0   \n",
       "\n",
       "   IstSonstige        LINREFX       LINREFY  XGCSWGS84  YGCSWGS84  STRZUSTAND  \n",
       "0            0  579075.960927  6.023531e+06  10.216714  54.353460           1  \n",
       "1            0  611914.920398  5.968420e+06  10.701388  53.852200           1  \n",
       "2            0  597807.670711  5.939159e+06  10.477760  53.592131           1  \n",
       "3            0  570688.991616  5.957626e+06  10.072329  53.762448           2  \n",
       "4            0  530059.818000  6.073467e+06   9.467681  54.807468           1  \n",
       "\n",
       "[5 rows x 24 columns]"
      ]
     },
     "execution_count": 8,
     "metadata": {},
     "output_type": "execute_result"
    }
   ],
   "source": [
    "df.head()"
   ]
  },
  {
   "cell_type": "code",
   "execution_count": 9,
   "metadata": {},
   "outputs": [
    {
     "data": {
      "text/html": [
       "<div>\n",
       "<style scoped>\n",
       "    .dataframe tbody tr th:only-of-type {\n",
       "        vertical-align: middle;\n",
       "    }\n",
       "\n",
       "    .dataframe tbody tr th {\n",
       "        vertical-align: top;\n",
       "    }\n",
       "\n",
       "    .dataframe thead th {\n",
       "        text-align: right;\n",
       "    }\n",
       "</style>\n",
       "<table border=\"1\" class=\"dataframe\">\n",
       "  <thead>\n",
       "    <tr style=\"text-align: right;\">\n",
       "      <th></th>\n",
       "      <th>OBJECTID</th>\n",
       "      <th>ULAND</th>\n",
       "      <th>UREGBEZ</th>\n",
       "      <th>UKREIS</th>\n",
       "      <th>UGEMEINDE</th>\n",
       "      <th>UJAHR</th>\n",
       "      <th>UMONAT</th>\n",
       "      <th>USTUNDE</th>\n",
       "      <th>UWOCHENTAG</th>\n",
       "      <th>UKATEGORIE</th>\n",
       "      <th>...</th>\n",
       "      <th>IstPKW</th>\n",
       "      <th>IstFuss</th>\n",
       "      <th>IstKrad</th>\n",
       "      <th>IstGkfz</th>\n",
       "      <th>IstSonstige</th>\n",
       "      <th>LINREFX</th>\n",
       "      <th>LINREFY</th>\n",
       "      <th>XGCSWGS84</th>\n",
       "      <th>YGCSWGS84</th>\n",
       "      <th>STRZUSTAND</th>\n",
       "    </tr>\n",
       "  </thead>\n",
       "  <tbody>\n",
       "    <tr>\n",
       "      <th>count</th>\n",
       "      <td>268370.000000</td>\n",
       "      <td>268370.000000</td>\n",
       "      <td>268370.000000</td>\n",
       "      <td>268370.000000</td>\n",
       "      <td>268370.000000</td>\n",
       "      <td>268370.0</td>\n",
       "      <td>268370.000000</td>\n",
       "      <td>268370.000000</td>\n",
       "      <td>268370.000000</td>\n",
       "      <td>268370.000000</td>\n",
       "      <td>...</td>\n",
       "      <td>268370.000000</td>\n",
       "      <td>268370.000000</td>\n",
       "      <td>268370.00000</td>\n",
       "      <td>268370.000000</td>\n",
       "      <td>268370.000000</td>\n",
       "      <td>268370.000000</td>\n",
       "      <td>2.683700e+05</td>\n",
       "      <td>268370.000000</td>\n",
       "      <td>268370.000000</td>\n",
       "      <td>268370.000000</td>\n",
       "    </tr>\n",
       "    <tr>\n",
       "      <th>mean</th>\n",
       "      <td>134185.500000</td>\n",
       "      <td>7.282833</td>\n",
       "      <td>2.853404</td>\n",
       "      <td>41.665525</td>\n",
       "      <td>63.106573</td>\n",
       "      <td>2019.0</td>\n",
       "      <td>6.701714</td>\n",
       "      <td>13.249048</td>\n",
       "      <td>4.104196</td>\n",
       "      <td>2.793207</td>\n",
       "      <td>...</td>\n",
       "      <td>0.804162</td>\n",
       "      <td>0.094262</td>\n",
       "      <td>0.13841</td>\n",
       "      <td>0.050143</td>\n",
       "      <td>0.098878</td>\n",
       "      <td>548339.049166</td>\n",
       "      <td>5.630806e+06</td>\n",
       "      <td>9.686864</td>\n",
       "      <td>50.807122</td>\n",
       "      <td>0.282185</td>\n",
       "    </tr>\n",
       "    <tr>\n",
       "      <th>std</th>\n",
       "      <td>77471.890209</td>\n",
       "      <td>3.585170</td>\n",
       "      <td>2.457828</td>\n",
       "      <td>25.923244</td>\n",
       "      <td>107.834334</td>\n",
       "      <td>0.0</td>\n",
       "      <td>3.266014</td>\n",
       "      <td>4.786792</td>\n",
       "      <td>1.867870</td>\n",
       "      <td>0.428173</td>\n",
       "      <td>...</td>\n",
       "      <td>0.396845</td>\n",
       "      <td>0.292193</td>\n",
       "      <td>0.34533</td>\n",
       "      <td>0.218241</td>\n",
       "      <td>0.298499</td>\n",
       "      <td>149945.409082</td>\n",
       "      <td>1.936216e+05</td>\n",
       "      <td>2.139855</td>\n",
       "      <td>1.738218</td>\n",
       "      <td>0.490314</td>\n",
       "    </tr>\n",
       "    <tr>\n",
       "      <th>min</th>\n",
       "      <td>1.000000</td>\n",
       "      <td>1.000000</td>\n",
       "      <td>0.000000</td>\n",
       "      <td>1.000000</td>\n",
       "      <td>0.000000</td>\n",
       "      <td>2019.0</td>\n",
       "      <td>1.000000</td>\n",
       "      <td>0.000000</td>\n",
       "      <td>1.000000</td>\n",
       "      <td>1.000000</td>\n",
       "      <td>...</td>\n",
       "      <td>0.000000</td>\n",
       "      <td>0.000000</td>\n",
       "      <td>0.00000</td>\n",
       "      <td>0.000000</td>\n",
       "      <td>0.000000</td>\n",
       "      <td>280437.417648</td>\n",
       "      <td>5.247272e+06</td>\n",
       "      <td>5.867262</td>\n",
       "      <td>47.371855</td>\n",
       "      <td>0.000000</td>\n",
       "    </tr>\n",
       "    <tr>\n",
       "      <th>25%</th>\n",
       "      <td>67093.250000</td>\n",
       "      <td>5.000000</td>\n",
       "      <td>1.000000</td>\n",
       "      <td>15.000000</td>\n",
       "      <td>0.000000</td>\n",
       "      <td>2019.0</td>\n",
       "      <td>4.000000</td>\n",
       "      <td>10.000000</td>\n",
       "      <td>3.000000</td>\n",
       "      <td>3.000000</td>\n",
       "      <td>...</td>\n",
       "      <td>1.000000</td>\n",
       "      <td>0.000000</td>\n",
       "      <td>0.00000</td>\n",
       "      <td>0.000000</td>\n",
       "      <td>0.000000</td>\n",
       "      <td>425815.274113</td>\n",
       "      <td>5.467200e+06</td>\n",
       "      <td>7.947397</td>\n",
       "      <td>49.344931</td>\n",
       "      <td>0.000000</td>\n",
       "    </tr>\n",
       "    <tr>\n",
       "      <th>50%</th>\n",
       "      <td>134185.500000</td>\n",
       "      <td>7.000000</td>\n",
       "      <td>3.000000</td>\n",
       "      <td>41.000000</td>\n",
       "      <td>16.000000</td>\n",
       "      <td>2019.0</td>\n",
       "      <td>7.000000</td>\n",
       "      <td>14.000000</td>\n",
       "      <td>4.000000</td>\n",
       "      <td>3.000000</td>\n",
       "      <td>...</td>\n",
       "      <td>1.000000</td>\n",
       "      <td>0.000000</td>\n",
       "      <td>0.00000</td>\n",
       "      <td>0.000000</td>\n",
       "      <td>0.000000</td>\n",
       "      <td>528605.177549</td>\n",
       "      <td>5.650939e+06</td>\n",
       "      <td>9.412229</td>\n",
       "      <td>50.982840</td>\n",
       "      <td>0.000000</td>\n",
       "    </tr>\n",
       "    <tr>\n",
       "      <th>75%</th>\n",
       "      <td>201277.750000</td>\n",
       "      <td>9.000000</td>\n",
       "      <td>4.000000</td>\n",
       "      <td>62.000000</td>\n",
       "      <td>89.000000</td>\n",
       "      <td>2019.0</td>\n",
       "      <td>9.000000</td>\n",
       "      <td>17.000000</td>\n",
       "      <td>6.000000</td>\n",
       "      <td>3.000000</td>\n",
       "      <td>...</td>\n",
       "      <td>1.000000</td>\n",
       "      <td>0.000000</td>\n",
       "      <td>0.00000</td>\n",
       "      <td>0.000000</td>\n",
       "      <td>0.000000</td>\n",
       "      <td>670687.329269</td>\n",
       "      <td>5.784068e+06</td>\n",
       "      <td>11.354566</td>\n",
       "      <td>52.195599</td>\n",
       "      <td>1.000000</td>\n",
       "    </tr>\n",
       "    <tr>\n",
       "      <th>max</th>\n",
       "      <td>268370.000000</td>\n",
       "      <td>16.000000</td>\n",
       "      <td>9.000000</td>\n",
       "      <td>91.000000</td>\n",
       "      <td>718.000000</td>\n",
       "      <td>2019.0</td>\n",
       "      <td>12.000000</td>\n",
       "      <td>23.000000</td>\n",
       "      <td>7.000000</td>\n",
       "      <td>3.000000</td>\n",
       "      <td>...</td>\n",
       "      <td>1.000000</td>\n",
       "      <td>1.000000</td>\n",
       "      <td>1.00000</td>\n",
       "      <td>1.000000</td>\n",
       "      <td>1.000000</td>\n",
       "      <td>920355.261328</td>\n",
       "      <td>6.098627e+06</td>\n",
       "      <td>15.028683</td>\n",
       "      <td>55.033009</td>\n",
       "      <td>2.000000</td>\n",
       "    </tr>\n",
       "  </tbody>\n",
       "</table>\n",
       "<p>8 rows × 24 columns</p>\n",
       "</div>"
      ],
      "text/plain": [
       "            OBJECTID          ULAND        UREGBEZ         UKREIS  \\\n",
       "count  268370.000000  268370.000000  268370.000000  268370.000000   \n",
       "mean   134185.500000       7.282833       2.853404      41.665525   \n",
       "std     77471.890209       3.585170       2.457828      25.923244   \n",
       "min         1.000000       1.000000       0.000000       1.000000   \n",
       "25%     67093.250000       5.000000       1.000000      15.000000   \n",
       "50%    134185.500000       7.000000       3.000000      41.000000   \n",
       "75%    201277.750000       9.000000       4.000000      62.000000   \n",
       "max    268370.000000      16.000000       9.000000      91.000000   \n",
       "\n",
       "           UGEMEINDE     UJAHR         UMONAT        USTUNDE     UWOCHENTAG  \\\n",
       "count  268370.000000  268370.0  268370.000000  268370.000000  268370.000000   \n",
       "mean       63.106573    2019.0       6.701714      13.249048       4.104196   \n",
       "std       107.834334       0.0       3.266014       4.786792       1.867870   \n",
       "min         0.000000    2019.0       1.000000       0.000000       1.000000   \n",
       "25%         0.000000    2019.0       4.000000      10.000000       3.000000   \n",
       "50%        16.000000    2019.0       7.000000      14.000000       4.000000   \n",
       "75%        89.000000    2019.0       9.000000      17.000000       6.000000   \n",
       "max       718.000000    2019.0      12.000000      23.000000       7.000000   \n",
       "\n",
       "          UKATEGORIE  ...         IstPKW        IstFuss       IstKrad  \\\n",
       "count  268370.000000  ...  268370.000000  268370.000000  268370.00000   \n",
       "mean        2.793207  ...       0.804162       0.094262       0.13841   \n",
       "std         0.428173  ...       0.396845       0.292193       0.34533   \n",
       "min         1.000000  ...       0.000000       0.000000       0.00000   \n",
       "25%         3.000000  ...       1.000000       0.000000       0.00000   \n",
       "50%         3.000000  ...       1.000000       0.000000       0.00000   \n",
       "75%         3.000000  ...       1.000000       0.000000       0.00000   \n",
       "max         3.000000  ...       1.000000       1.000000       1.00000   \n",
       "\n",
       "             IstGkfz    IstSonstige        LINREFX       LINREFY  \\\n",
       "count  268370.000000  268370.000000  268370.000000  2.683700e+05   \n",
       "mean        0.050143       0.098878  548339.049166  5.630806e+06   \n",
       "std         0.218241       0.298499  149945.409082  1.936216e+05   \n",
       "min         0.000000       0.000000  280437.417648  5.247272e+06   \n",
       "25%         0.000000       0.000000  425815.274113  5.467200e+06   \n",
       "50%         0.000000       0.000000  528605.177549  5.650939e+06   \n",
       "75%         0.000000       0.000000  670687.329269  5.784068e+06   \n",
       "max         1.000000       1.000000  920355.261328  6.098627e+06   \n",
       "\n",
       "           XGCSWGS84      YGCSWGS84     STRZUSTAND  \n",
       "count  268370.000000  268370.000000  268370.000000  \n",
       "mean        9.686864      50.807122       0.282185  \n",
       "std         2.139855       1.738218       0.490314  \n",
       "min         5.867262      47.371855       0.000000  \n",
       "25%         7.947397      49.344931       0.000000  \n",
       "50%         9.412229      50.982840       0.000000  \n",
       "75%        11.354566      52.195599       1.000000  \n",
       "max        15.028683      55.033009       2.000000  \n",
       "\n",
       "[8 rows x 24 columns]"
      ]
     },
     "execution_count": 9,
     "metadata": {},
     "output_type": "execute_result"
    }
   ],
   "source": [
    "df.describe()"
   ]
  },
  {
   "cell_type": "code",
   "execution_count": 7,
   "metadata": {},
   "outputs": [
    {
     "data": {
      "text/plain": [
       "<matplotlib.axes._subplots.AxesSubplot at 0x15ff2249e80>"
      ]
     },
     "execution_count": 7,
     "metadata": {},
     "output_type": "execute_result"
    },
    {
     "data": {
      "image/png": "[encoded data removed]",
      "text/plain": [
       "<Figure size 432x288 with 1 Axes>"
      ]
     },
     "metadata": {
      "needs_background": "light"
     },
     "output_type": "display_data"
    }
   ],
   "source": [
    "sns.countplot(data=df, x=\"USTUNDE\")"
   ]
  },
  {
   "cell_type": "code",
   "execution_count": 8,
   "metadata": {},
   "outputs": [
    {
     "data": {
      "text/plain": [
       "<matplotlib.axes._subplots.AxesSubplot at 0x15ff3a7b0d0>"
      ]
     },
     "execution_count": 8,
     "metadata": {},
     "output_type": "execute_result"
    },
    {
     "data": {
      "image/png": "[encoded data removed]",
      "text/plain": [
       "<Figure size 432x288 with 1 Axes>"
      ]
     },
     "metadata": {
      "needs_background": "light"
     },
     "output_type": "display_data"
    }
   ],
   "source": [
    "sns.countplot(data=df, x=\"ULAND\")"
   ]
  },
  {
   "cell_type": "code",
   "execution_count": 15,
   "metadata": {},
   "outputs": [
    {
     "data": {
      "text/plain": [
       "<matplotlib.axes._subplots.AxesSubplot at 0x2145678e6a0>"
      ]
     },
     "execution_count": 15,
     "metadata": {},
     "output_type": "execute_result"
    },
    {
     "data": {
      "image/png": "[encoded data removed]",
      "text/plain": [
       "<Figure size 432x288 with 1 Axes>"
      ]
     },
     "metadata": {
      "needs_background": "light"
     },
     "output_type": "display_data"
    }
   ],
   "source": [
    "sns.countplot(data=df, x=\"UMONAT\")"
   ]
  },
  {
   "cell_type": "code",
   "execution_count": 16,
   "metadata": {},
   "outputs": [
    {
     "data": {
      "text/plain": [
       "<matplotlib.axes._subplots.AxesSubplot at 0x214573f7640>"
      ]
     },
     "execution_count": 16,
     "metadata": {},
     "output_type": "execute_result"
    },
    {
     "data": {
      "image/png": "[encoded data removed]",
      "text/plain": [
       "<Figure size 432x288 with 1 Axes>"
      ]
     },
     "metadata": {
      "needs_background": "light"
     },
     "output_type": "display_data"
    }
   ],
   "source": [
    "sns.countplot(data=df, x=\"UWOCHENTAG\")"
   ]
  },
  {
   "cell_type": "code",
   "execution_count": 17,
   "metadata": {},
   "outputs": [
    {
     "data": {
      "text/plain": [
       "<matplotlib.axes._subplots.AxesSubplot at 0x2145743f610>"
      ]
     },
     "execution_count": 17,
     "metadata": {},
     "output_type": "execute_result"
    },
    {
     "data": {
      "image/png": "[encoded data removed]",
      "text/plain": [
       "<Figure size 432x288 with 1 Axes>"
      ]
     },
     "metadata": {
      "needs_background": "light"
     },
     "output_type": "display_data"
    }
   ],
   "source": [
    "sns.countplot(data=df, x=\"UKATEGORIE\")"
   ]
  },
  {
   "cell_type": "code",
   "execution_count": 18,
   "metadata": {},
   "outputs": [
    {
     "data": {
      "text/plain": [
       "<matplotlib.axes._subplots.AxesSubplot at 0x21457661fd0>"
      ]
     },
     "execution_count": 18,
     "metadata": {},
     "output_type": "execute_result"
    },
    {
     "data": {
      "image/png": "[encoded data removed]",
      "text/plain": [
       "<Figure size 432x288 with 1 Axes>"
      ]
     },
     "metadata": {
      "needs_background": "light"
     },
     "output_type": "display_data"
    }
   ],
   "source": [
    "sns.countplot(data=df, x=\"UART\")"
   ]
  },
  {
   "cell_type": "code",
   "execution_count": 19,
   "metadata": {},
   "outputs": [
    {
     "data": {
      "text/plain": [
       "<matplotlib.axes._subplots.AxesSubplot at 0x214574d9160>"
      ]
     },
     "execution_count": 19,
     "metadata": {},
     "output_type": "execute_result"
    },
    {
     "data": {
      "image/png": "[encoded data removed]",
      "text/plain": [
       "<Figure size 432x288 with 1 Axes>"
      ]
     },
     "metadata": {
      "needs_background": "light"
     },
     "output_type": "display_data"
    }
   ],
   "source": [
    "sns.countplot(data=df, x=\"UTYP1\")"
   ]
  },
  {
   "cell_type": "code",
   "execution_count": 20,
   "metadata": {},
   "outputs": [
    {
     "data": {
      "text/plain": [
       "<matplotlib.axes._subplots.AxesSubplot at 0x2145753f490>"
      ]
     },
     "execution_count": 20,
     "metadata": {},
     "output_type": "execute_result"
    },
    {
     "data": {
      "image/png": "[encoded data removed]",
      "text/plain": [
       "<Figure size 432x288 with 1 Axes>"
      ]
     },
     "metadata": {
      "needs_background": "light"
     },
     "output_type": "display_data"
    }
   ],
   "source": [
    "sns.countplot(data=df, x=\"ULICHTVERH\")"
   ]
  },
  {
   "cell_type": "code",
   "execution_count": 21,
   "metadata": {},
   "outputs": [
    {
     "data": {
      "text/plain": [
       "<matplotlib.axes._subplots.AxesSubplot at 0x21457593c10>"
      ]
     },
     "execution_count": 21,
     "metadata": {},
     "output_type": "execute_result"
    },
    {
     "data": {
      "image/png": "[encoded data removed]",
      "text/plain": [
       "<Figure size 432x288 with 1 Axes>"
      ]
     },
     "metadata": {
      "needs_background": "light"
     },
     "output_type": "display_data"
    }
   ],
   "source": [
    "sns.countplot(data=df, x=\"IstRad\")"
   ]
  },
  {
   "cell_type": "code",
   "execution_count": 22,
   "metadata": {},
   "outputs": [
    {
     "data": {
      "text/plain": [
       "<matplotlib.axes._subplots.AxesSubplot at 0x214575da670>"
      ]
     },
     "execution_count": 22,
     "metadata": {},
     "output_type": "execute_result"
    },
    {
     "data": {
      "image/png": "[encoded data removed]",
      "text/plain": [
       "<Figure size 432x288 with 1 Axes>"
      ]
     },
     "metadata": {
      "needs_background": "light"
     },
     "output_type": "display_data"
    }
   ],
   "source": [
    "sns.countplot(data=df, x=\"IstPKW\")"
   ]
  },
  {
   "cell_type": "code",
   "execution_count": 23,
   "metadata": {},
   "outputs": [
    {
     "data": {
      "text/plain": [
       "<matplotlib.axes._subplots.AxesSubplot at 0x214575cef40>"
      ]
     },
     "execution_count": 23,
     "metadata": {},
     "output_type": "execute_result"
    },
    {
     "data": {
      "image/png": "[encoded data removed]",
      "text/plain": [
       "<Figure size 432x288 with 1 Axes>"
      ]
     },
     "metadata": {
      "needs_background": "light"
     },
     "output_type": "display_data"
    }
   ],
   "source": [
    "sns.countplot(data=df, x=\"IstFuss\")"
   ]
  },
  {
   "cell_type": "code",
   "execution_count": 24,
   "metadata": {},
   "outputs": [
    {
     "data": {
      "text/plain": [
       "<matplotlib.axes._subplots.AxesSubplot at 0x2145737c1c0>"
      ]
     },
     "execution_count": 24,
     "metadata": {},
     "output_type": "execute_result"
    },
    {
     "data": {
      "image/png": "[encoded data removed]",
      "text/plain": [
       "<Figure size 432x288 with 1 Axes>"
      ]
     },
     "metadata": {
      "needs_background": "light"
     },
     "output_type": "display_data"
    }
   ],
   "source": [
    "sns.countplot(data=df, x=\"IstKrad\")"
   ]
  },
  {
   "cell_type": "code",
   "execution_count": 25,
   "metadata": {},
   "outputs": [
    {
     "data": {
      "text/plain": [
       "<matplotlib.axes._subplots.AxesSubplot at 0x2145753aaf0>"
      ]
     },
     "execution_count": 25,
     "metadata": {},
     "output_type": "execute_result"
    },
    {
     "data": {
      "image/png": "[encoded data removed]",
      "text/plain": [
       "<Figure size 432x288 with 1 Axes>"
      ]
     },
     "metadata": {
      "needs_background": "light"
     },
     "output_type": "display_data"
    }
   ],
   "source": [
    "sns.countplot(data=df, x=\"IstGkfz\")"
   ]
  },
  {
   "cell_type": "code",
   "execution_count": 26,
   "metadata": {},
   "outputs": [
    {
     "data": {
      "text/plain": [
       "<matplotlib.axes._subplots.AxesSubplot at 0x2145f2498e0>"
      ]
     },
     "execution_count": 26,
     "metadata": {},
     "output_type": "execute_result"
    },
    {
     "data": {
      "image/png": "[encoded data removed]",
      "text/plain": [
       "<Figure size 432x288 with 1 Axes>"
      ]
     },
     "metadata": {
      "needs_background": "light"
     },
     "output_type": "display_data"
    }
   ],
   "source": [
    "sns.countplot(data=df, x=\"IstSonstige\")"
   ]
  },
  {
   "cell_type": "code",
   "execution_count": 28,
   "metadata": {},
   "outputs": [
    {
     "data": {
      "text/plain": [
       "<matplotlib.axes._subplots.AxesSubplot at 0x2145f474340>"
      ]
     },
     "execution_count": 28,
     "metadata": {},
     "output_type": "execute_result"
    },
    {
     "data": {
      "image/png": "[encoded data removed]",
      "text/plain": [
       "<Figure size 432x288 with 1 Axes>"
      ]
     },
     "metadata": {
      "needs_background": "light"
     },
     "output_type": "display_data"
    }
   ],
   "source": [
    "sns.countplot(data=df, x=\"STRZUSTAND\")"
   ]
  },
  {
   "cell_type": "code",
   "execution_count": 29,
   "metadata": {},
   "outputs": [
    {
     "name": "stdout",
     "output_type": "stream",
     "text": [
      "<class 'pandas.core.frame.DataFrame'>\n",
      "RangeIndex: 268370 entries, 0 to 268369\n",
      "Data columns (total 24 columns):\n",
      " #   Column       Non-Null Count   Dtype \n",
      "---  ------       --------------   ----- \n",
      " 0   OBJECTID     268370 non-null  int64 \n",
      " 1   ULAND        268370 non-null  int64 \n",
      " 2   UREGBEZ      268370 non-null  int64 \n",
      " 3   UKREIS       268370 non-null  int64 \n",
      " 4   UGEMEINDE    268370 non-null  int64 \n",
      " 5   UJAHR        268370 non-null  int64 \n",
      " 6   UMONAT       268370 non-null  int64 \n",
      " 7   USTUNDE      268370 non-null  int64 \n",
      " 8   UWOCHENTAG   268370 non-null  int64 \n",
      " 9   UKATEGORIE   268370 non-null  int64 \n",
      " 10  UART         268370 non-null  int64 \n",
      " 11  UTYP1        268370 non-null  int64 \n",
      " 12  ULICHTVERH   268370 non-null  int64 \n",
      " 13  IstRad       268370 non-null  int64 \n",
      " 14  IstPKW       268370 non-null  int64 \n",
      " 15  IstFuss      268370 non-null  int64 \n",
      " 16  IstKrad      268370 non-null  int64 \n",
      " 17  IstGkfz      268370 non-null  int64 \n",
      " 18  IstSonstige  268370 non-null  int64 \n",
      " 19  LINREFX      268370 non-null  object\n",
      " 20  LINREFY      268370 non-null  object\n",
      " 21  XGCSWGS84    268370 non-null  object\n",
      " 22  YGCSWGS84    268370 non-null  object\n",
      " 23  STRZUSTAND   268370 non-null  int64 \n",
      "dtypes: int64(20), object(4)\n",
      "memory usage: 49.1+ MB\n"
     ]
    }
   ],
   "source": [
    "df.info()"
   ]
  },
  {
   "cell_type": "code",
   "execution_count": 36,
   "metadata": {},
   "outputs": [
    {
     "ename": "TypeError",
     "evalue": "string indices must be integers",
     "output_type": "error",
     "traceback": [
      "\u001b[1;31m---------------------------------------------------------------------------\u001b[0m",
      "\u001b[1;31mTypeError\u001b[0m                                 Traceback (most recent call last)",
      "\u001b[1;32m<ipython-input-36-9f03243d5842>\u001b[0m in \u001b[0;36m<module>\u001b[1;34m\u001b[0m\n\u001b[1;32m----> 1\u001b[1;33m \u001b[0mdf\u001b[0m \u001b[1;33m=\u001b[0m \u001b[0mpd\u001b[0m\u001b[1;33m.\u001b[0m\u001b[0mread_csv\u001b[0m\u001b[1;33m(\u001b[0m\u001b[0mfile_path\u001b[0m\u001b[1;33m[\u001b[0m\u001b[1;34m'ULAND = 02'\u001b[0m\u001b[1;33m]\u001b[0m\u001b[1;33m,\u001b[0m \u001b[0msep\u001b[0m\u001b[1;33m=\u001b[0m\u001b[1;34m\";\"\u001b[0m\u001b[1;33m)\u001b[0m\u001b[1;33m\u001b[0m\u001b[1;33m\u001b[0m\u001b[0m\n\u001b[0m",
      "\u001b[1;31mTypeError\u001b[0m: string indices must be integers"
     ]
    }
   ],
   "source": [
    "df = pd.read_csv(file_path['ULAND = 02'], sep=\";\")"
   ]
  },
  {
   "cell_type": "code",
   "execution_count": 1,
   "metadata": {},
   "outputs": [
    {
     "ename": "NameError",
     "evalue": "name 'df' is not defined",
     "output_type": "error",
     "traceback": [
      "\u001b[1;31m---------------------------------------------------------------------------\u001b[0m",
      "\u001b[1;31mNameError\u001b[0m                                 Traceback (most recent call last)",
      "\u001b[1;32m<ipython-input-1-2a851eda2e88>\u001b[0m in \u001b[0;36m<module>\u001b[1;34m\u001b[0m\n\u001b[1;32m----> 1\u001b[1;33m \u001b[0mprint\u001b[0m\u001b[1;33m(\u001b[0m\u001b[0mdf\u001b[0m\u001b[1;33m)\u001b[0m\u001b[1;33m\u001b[0m\u001b[1;33m\u001b[0m\u001b[0m\n\u001b[0m",
      "\u001b[1;31mNameError\u001b[0m: name 'df' is not defined"
     ]
    }
   ],
   "source": [
    "print(df)"
   ]
  },
  {
   "cell_type": "code",
   "execution_count": 9,
   "metadata": {},
   "outputs": [
    {
     "name": "stdout",
     "output_type": "stream",
     "text": [
      "        OBJECTID  ULAND  UREGBEZ  UKREIS  UGEMEINDE  UJAHR  UMONAT  USTUNDE  \\\n",
      "0              1      1        0      57         25   2019       1        5   \n",
      "1              2      1        0       3          0   2019       1        6   \n",
      "2              3      1        0      53         91   2019       1        7   \n",
      "3              4      1        0      62         76   2019       1        5   \n",
      "4              5      1        0       1          0   2019       1        8   \n",
      "...          ...    ...      ...     ...        ...    ...     ...      ...   \n",
      "268365    268366      7        3      15          0   2019      12       18   \n",
      "268366    268367      7        3      15          0   2019      12       11   \n",
      "268367    268368      7        3      12          0   2019      12       12   \n",
      "268368    268369      7        3      18          0   2019      12       18   \n",
      "268369    268370      7        3      38         14   2019      12       16   \n",
      "\n",
      "        UWOCHENTAG  UKATEGORIE  ...  IstPKW  IstFuss  IstKrad  IstGkfz  \\\n",
      "0                5           3  ...       1        0        0        0   \n",
      "1                2           3  ...       1        0        0        0   \n",
      "2                6           3  ...       1        0        0        0   \n",
      "3                6           3  ...       1        0        0        0   \n",
      "4                5           3  ...       1        0        0        0   \n",
      "...            ...         ...  ...     ...      ...      ...      ...   \n",
      "268365           1           3  ...       0        1        0        0   \n",
      "268366           1           3  ...       1        0        0        0   \n",
      "268367           7           3  ...       1        0        0        0   \n",
      "268368           7           3  ...       1        0        0        0   \n",
      "268369           7           3  ...       1        0        0        0   \n",
      "\n",
      "        IstSonstige                 LINREFX                  LINREFY  \\\n",
      "0                 0  579075,960927323440000  6023531,318255106000000   \n",
      "1                 0  611914,920398440210000  5968419,523143058600000   \n",
      "2                 0  597807,670711245390000  5939158,772521587100000   \n",
      "3                 0  570688,991616101940000  5957625,627219760800000   \n",
      "4                 0  530059,818000000900000  6073467,298000000400000   \n",
      "...             ...                     ...                      ...   \n",
      "268365            0  447451,870000000110000  5538758,230000002300000   \n",
      "268366            0  447651,022998617960000  5539417,041274307300000   \n",
      "268367            0  410972,391108420680000  5477309,075609600200000   \n",
      "268368            0  458759,260020965710000  5463484,891345262500000   \n",
      "268369            0  448225,364082048650000  5474345,890887592000000   \n",
      "\n",
      "                 XGCSWGS84           YGCSWGS84 STRZUSTAND  \n",
      "0       10,216713530000050  54,353460244000075          1  \n",
      "1       10,701388439000027  53,852200108000034          1  \n",
      "2       10,477759560000038  53,592131367000036          1  \n",
      "3       10,072328698000035  53,762448160000076          2  \n",
      "4        9,467680689000076  54,807468400000062          1  \n",
      "...                    ...                 ...        ...  \n",
      "268365   8,266788796000071  49,998830410000039          1  \n",
      "268366   8,269477582000036  50,004772835000040          0  \n",
      "268367   7,771903968000061  49,441922803000068          1  \n",
      "268368   8,432482387000050  49,322701564000056          1  \n",
      "268369   8,286121830000070  49,419586413000047          1  \n",
      "\n",
      "[268370 rows x 24 columns]\n"
     ]
    }
   ],
   "source": [
    "print(df)"
   ]
  },
  {
   "cell_type": "code",
   "execution_count": 20,
   "metadata": {},
   "outputs": [],
   "source": [
    "# Aus dem Datensatz werden alle Unfalldaten entfernt, die nicht das Bundesland Hamburg (Wert = 2) betreffen\n",
    "df = df[df.ULAND == 2]"
   ]
  },
  {
   "cell_type": "code",
   "execution_count": 21,
   "metadata": {},
   "outputs": [
    {
     "data": {
      "text/html": [
       "<div>\n",
       "<style scoped>\n",
       "    .dataframe tbody tr th:only-of-type {\n",
       "        vertical-align: middle;\n",
       "    }\n",
       "\n",
       "    .dataframe tbody tr th {\n",
       "        vertical-align: top;\n",
       "    }\n",
       "\n",
       "    .dataframe thead th {\n",
       "        text-align: right;\n",
       "    }\n",
       "</style>\n",
       "<table border=\"1\" class=\"dataframe\">\n",
       "  <thead>\n",
       "    <tr style=\"text-align: right;\">\n",
       "      <th></th>\n",
       "      <th>OBJECTID</th>\n",
       "      <th>ULAND</th>\n",
       "      <th>UREGBEZ</th>\n",
       "      <th>UKREIS</th>\n",
       "      <th>UGEMEINDE</th>\n",
       "      <th>UJAHR</th>\n",
       "      <th>UMONAT</th>\n",
       "      <th>USTUNDE</th>\n",
       "      <th>UWOCHENTAG</th>\n",
       "      <th>UKATEGORIE</th>\n",
       "      <th>...</th>\n",
       "      <th>IstPKW</th>\n",
       "      <th>IstFuss</th>\n",
       "      <th>IstKrad</th>\n",
       "      <th>IstGkfz</th>\n",
       "      <th>IstSonstige</th>\n",
       "      <th>LINREFX</th>\n",
       "      <th>LINREFY</th>\n",
       "      <th>XGCSWGS84</th>\n",
       "      <th>YGCSWGS84</th>\n",
       "      <th>STRZUSTAND</th>\n",
       "    </tr>\n",
       "  </thead>\n",
       "  <tbody>\n",
       "    <tr>\n",
       "      <th>6118</th>\n",
       "      <td>6119</td>\n",
       "      <td>2</td>\n",
       "      <td>4</td>\n",
       "      <td>5</td>\n",
       "      <td>409</td>\n",
       "      <td>2019</td>\n",
       "      <td>4</td>\n",
       "      <td>12</td>\n",
       "      <td>2</td>\n",
       "      <td>3</td>\n",
       "      <td>...</td>\n",
       "      <td>1</td>\n",
       "      <td>0</td>\n",
       "      <td>0</td>\n",
       "      <td>0</td>\n",
       "      <td>0</td>\n",
       "      <td>566306,898549227040000</td>\n",
       "      <td>5938672,308777563300000</td>\n",
       "      <td>10,001815250000050</td>\n",
       "      <td>53,592690385000026</td>\n",
       "      <td>0</td>\n",
       "    </tr>\n",
       "    <tr>\n",
       "      <th>6122</th>\n",
       "      <td>6123</td>\n",
       "      <td>2</td>\n",
       "      <td>3</td>\n",
       "      <td>7</td>\n",
       "      <td>319</td>\n",
       "      <td>2019</td>\n",
       "      <td>1</td>\n",
       "      <td>15</td>\n",
       "      <td>5</td>\n",
       "      <td>3</td>\n",
       "      <td>...</td>\n",
       "      <td>1</td>\n",
       "      <td>0</td>\n",
       "      <td>0</td>\n",
       "      <td>1</td>\n",
       "      <td>0</td>\n",
       "      <td>561501,251956302670000</td>\n",
       "      <td>5944563,441032247600000</td>\n",
       "      <td>9,930382355000063</td>\n",
       "      <td>53,646221604000061</td>\n",
       "      <td>0</td>\n",
       "    </tr>\n",
       "    <tr>\n",
       "      <th>6130</th>\n",
       "      <td>6131</td>\n",
       "      <td>2</td>\n",
       "      <td>1</td>\n",
       "      <td>6</td>\n",
       "      <td>115</td>\n",
       "      <td>2019</td>\n",
       "      <td>2</td>\n",
       "      <td>18</td>\n",
       "      <td>4</td>\n",
       "      <td>3</td>\n",
       "      <td>...</td>\n",
       "      <td>1</td>\n",
       "      <td>0</td>\n",
       "      <td>0</td>\n",
       "      <td>0</td>\n",
       "      <td>0</td>\n",
       "      <td>567006,100197231400000</td>\n",
       "      <td>5933713,052668681400000</td>\n",
       "      <td>10,011313495000024</td>\n",
       "      <td>53,548031842000057</td>\n",
       "      <td>0</td>\n",
       "    </tr>\n",
       "    <tr>\n",
       "      <th>6134</th>\n",
       "      <td>6135</td>\n",
       "      <td>2</td>\n",
       "      <td>1</td>\n",
       "      <td>4</td>\n",
       "      <td>111</td>\n",
       "      <td>2019</td>\n",
       "      <td>2</td>\n",
       "      <td>7</td>\n",
       "      <td>4</td>\n",
       "      <td>3</td>\n",
       "      <td>...</td>\n",
       "      <td>1</td>\n",
       "      <td>0</td>\n",
       "      <td>0</td>\n",
       "      <td>0</td>\n",
       "      <td>0</td>\n",
       "      <td>564214,999957438560000</td>\n",
       "      <td>5934017,071644265200000</td>\n",
       "      <td>9,969257017000075</td>\n",
       "      <td>53,551112908000050</td>\n",
       "      <td>0</td>\n",
       "    </tr>\n",
       "    <tr>\n",
       "      <th>6140</th>\n",
       "      <td>6141</td>\n",
       "      <td>2</td>\n",
       "      <td>2</td>\n",
       "      <td>6</td>\n",
       "      <td>218</td>\n",
       "      <td>2019</td>\n",
       "      <td>4</td>\n",
       "      <td>7</td>\n",
       "      <td>3</td>\n",
       "      <td>3</td>\n",
       "      <td>...</td>\n",
       "      <td>1</td>\n",
       "      <td>0</td>\n",
       "      <td>0</td>\n",
       "      <td>0</td>\n",
       "      <td>0</td>\n",
       "      <td>559522,479056822140000</td>\n",
       "      <td>5935079,057005249000000</td>\n",
       "      <td>9,898640593000039</td>\n",
       "      <td>53,561210447000065</td>\n",
       "      <td>0</td>\n",
       "    </tr>\n",
       "  </tbody>\n",
       "</table>\n",
       "<p>5 rows × 24 columns</p>\n",
       "</div>"
      ],
      "text/plain": [
       "      OBJECTID  ULAND  UREGBEZ  UKREIS  UGEMEINDE  UJAHR  UMONAT  USTUNDE  \\\n",
       "6118      6119      2        4       5        409   2019       4       12   \n",
       "6122      6123      2        3       7        319   2019       1       15   \n",
       "6130      6131      2        1       6        115   2019       2       18   \n",
       "6134      6135      2        1       4        111   2019       2        7   \n",
       "6140      6141      2        2       6        218   2019       4        7   \n",
       "\n",
       "      UWOCHENTAG  UKATEGORIE  ...  IstPKW  IstFuss  IstKrad  IstGkfz  \\\n",
       "6118           2           3  ...       1        0        0        0   \n",
       "6122           5           3  ...       1        0        0        1   \n",
       "6130           4           3  ...       1        0        0        0   \n",
       "6134           4           3  ...       1        0        0        0   \n",
       "6140           3           3  ...       1        0        0        0   \n",
       "\n",
       "      IstSonstige                 LINREFX                  LINREFY  \\\n",
       "6118            0  566306,898549227040000  5938672,308777563300000   \n",
       "6122            0  561501,251956302670000  5944563,441032247600000   \n",
       "6130            0  567006,100197231400000  5933713,052668681400000   \n",
       "6134            0  564214,999957438560000  5934017,071644265200000   \n",
       "6140            0  559522,479056822140000  5935079,057005249000000   \n",
       "\n",
       "               XGCSWGS84           YGCSWGS84 STRZUSTAND  \n",
       "6118  10,001815250000050  53,592690385000026          0  \n",
       "6122   9,930382355000063  53,646221604000061          0  \n",
       "6130  10,011313495000024  53,548031842000057          0  \n",
       "6134   9,969257017000075  53,551112908000050          0  \n",
       "6140   9,898640593000039  53,561210447000065          0  \n",
       "\n",
       "[5 rows x 24 columns]"
      ]
     },
     "execution_count": 21,
     "metadata": {},
     "output_type": "execute_result"
    }
   ],
   "source": [
    "df.head()"
   ]
  },
  {
   "cell_type": "code",
   "execution_count": 22,
   "metadata": {},
   "outputs": [
    {
     "data": {
      "text/plain": [
       "2    6827\n",
       "Name: ULAND, dtype: int64"
      ]
     },
     "execution_count": 22,
     "metadata": {},
     "output_type": "execute_result"
    }
   ],
   "source": [
    "# Kontrolle, inwiefern der Datensatz tatsächlich nur noch Unfalldaten aus Hamburg enthält\n",
    "df[\"ULAND\"].value_counts()"
   ]
  },
  {
   "cell_type": "code",
   "execution_count": 23,
   "metadata": {},
   "outputs": [],
   "source": [
    "# Aus dem Datensatz werden Unfalldaten ohne Radbeteiliugng entfernt; es verbleiben Unfalldaten mit Radbeteiligung (Wert = 1) \n",
    "df = df[df.IstRad == 1]"
   ]
  },
  {
   "cell_type": "code",
   "execution_count": 24,
   "metadata": {},
   "outputs": [
    {
     "data": {
      "text/html": [
       "<div>\n",
       "<style scoped>\n",
       "    .dataframe tbody tr th:only-of-type {\n",
       "        vertical-align: middle;\n",
       "    }\n",
       "\n",
       "    .dataframe tbody tr th {\n",
       "        vertical-align: top;\n",
       "    }\n",
       "\n",
       "    .dataframe thead th {\n",
       "        text-align: right;\n",
       "    }\n",
       "</style>\n",
       "<table border=\"1\" class=\"dataframe\">\n",
       "  <thead>\n",
       "    <tr style=\"text-align: right;\">\n",
       "      <th></th>\n",
       "      <th>OBJECTID</th>\n",
       "      <th>ULAND</th>\n",
       "      <th>UREGBEZ</th>\n",
       "      <th>UKREIS</th>\n",
       "      <th>UGEMEINDE</th>\n",
       "      <th>UJAHR</th>\n",
       "      <th>UMONAT</th>\n",
       "      <th>USTUNDE</th>\n",
       "      <th>UWOCHENTAG</th>\n",
       "      <th>UKATEGORIE</th>\n",
       "      <th>...</th>\n",
       "      <th>IstPKW</th>\n",
       "      <th>IstFuss</th>\n",
       "      <th>IstKrad</th>\n",
       "      <th>IstGkfz</th>\n",
       "      <th>IstSonstige</th>\n",
       "      <th>LINREFX</th>\n",
       "      <th>LINREFY</th>\n",
       "      <th>XGCSWGS84</th>\n",
       "      <th>YGCSWGS84</th>\n",
       "      <th>STRZUSTAND</th>\n",
       "    </tr>\n",
       "  </thead>\n",
       "  <tbody>\n",
       "    <tr>\n",
       "      <th>6154</th>\n",
       "      <td>6155</td>\n",
       "      <td>2</td>\n",
       "      <td>3</td>\n",
       "      <td>7</td>\n",
       "      <td>319</td>\n",
       "      <td>2019</td>\n",
       "      <td>1</td>\n",
       "      <td>17</td>\n",
       "      <td>2</td>\n",
       "      <td>3</td>\n",
       "      <td>...</td>\n",
       "      <td>1</td>\n",
       "      <td>0</td>\n",
       "      <td>0</td>\n",
       "      <td>0</td>\n",
       "      <td>0</td>\n",
       "      <td>560167,549954812040000</td>\n",
       "      <td>5942453,488371437400000</td>\n",
       "      <td>9,909801000000073</td>\n",
       "      <td>53,627413833000048</td>\n",
       "      <td>2</td>\n",
       "    </tr>\n",
       "    <tr>\n",
       "      <th>6186</th>\n",
       "      <td>6187</td>\n",
       "      <td>2</td>\n",
       "      <td>2</td>\n",
       "      <td>12</td>\n",
       "      <td>225</td>\n",
       "      <td>2019</td>\n",
       "      <td>4</td>\n",
       "      <td>14</td>\n",
       "      <td>5</td>\n",
       "      <td>3</td>\n",
       "      <td>...</td>\n",
       "      <td>1</td>\n",
       "      <td>0</td>\n",
       "      <td>0</td>\n",
       "      <td>0</td>\n",
       "      <td>0</td>\n",
       "      <td>554503,949000001880000</td>\n",
       "      <td>5936709,515000000600000</td>\n",
       "      <td>9,823166851000053</td>\n",
       "      <td>53,576409588000047</td>\n",
       "      <td>0</td>\n",
       "    </tr>\n",
       "    <tr>\n",
       "      <th>6222</th>\n",
       "      <td>6223</td>\n",
       "      <td>2</td>\n",
       "      <td>3</td>\n",
       "      <td>8</td>\n",
       "      <td>320</td>\n",
       "      <td>2019</td>\n",
       "      <td>1</td>\n",
       "      <td>8</td>\n",
       "      <td>6</td>\n",
       "      <td>3</td>\n",
       "      <td>...</td>\n",
       "      <td>1</td>\n",
       "      <td>0</td>\n",
       "      <td>0</td>\n",
       "      <td>0</td>\n",
       "      <td>0</td>\n",
       "      <td>560030,650867687540000</td>\n",
       "      <td>5941388,377077335500000</td>\n",
       "      <td>9,907525838000026</td>\n",
       "      <td>53,617857011000069</td>\n",
       "      <td>2</td>\n",
       "    </tr>\n",
       "    <tr>\n",
       "      <th>6273</th>\n",
       "      <td>6274</td>\n",
       "      <td>2</td>\n",
       "      <td>2</td>\n",
       "      <td>5</td>\n",
       "      <td>215</td>\n",
       "      <td>2019</td>\n",
       "      <td>3</td>\n",
       "      <td>8</td>\n",
       "      <td>4</td>\n",
       "      <td>3</td>\n",
       "      <td>...</td>\n",
       "      <td>1</td>\n",
       "      <td>0</td>\n",
       "      <td>0</td>\n",
       "      <td>0</td>\n",
       "      <td>0</td>\n",
       "      <td>561695,970999999900000</td>\n",
       "      <td>5935355,815000003200000</td>\n",
       "      <td>9,931504854000025</td>\n",
       "      <td>53,563446780000049</td>\n",
       "      <td>1</td>\n",
       "    </tr>\n",
       "    <tr>\n",
       "      <th>6278</th>\n",
       "      <td>6279</td>\n",
       "      <td>2</td>\n",
       "      <td>2</td>\n",
       "      <td>14</td>\n",
       "      <td>227</td>\n",
       "      <td>2019</td>\n",
       "      <td>2</td>\n",
       "      <td>13</td>\n",
       "      <td>2</td>\n",
       "      <td>3</td>\n",
       "      <td>...</td>\n",
       "      <td>1</td>\n",
       "      <td>0</td>\n",
       "      <td>0</td>\n",
       "      <td>0</td>\n",
       "      <td>0</td>\n",
       "      <td>551459,613255783920000</td>\n",
       "      <td>5937130,482922792400000</td>\n",
       "      <td>9,777262785000062</td>\n",
       "      <td>53,580500630000074</td>\n",
       "      <td>0</td>\n",
       "    </tr>\n",
       "  </tbody>\n",
       "</table>\n",
       "<p>5 rows × 24 columns</p>\n",
       "</div>"
      ],
      "text/plain": [
       "      OBJECTID  ULAND  UREGBEZ  UKREIS  UGEMEINDE  UJAHR  UMONAT  USTUNDE  \\\n",
       "6154      6155      2        3       7        319   2019       1       17   \n",
       "6186      6187      2        2      12        225   2019       4       14   \n",
       "6222      6223      2        3       8        320   2019       1        8   \n",
       "6273      6274      2        2       5        215   2019       3        8   \n",
       "6278      6279      2        2      14        227   2019       2       13   \n",
       "\n",
       "      UWOCHENTAG  UKATEGORIE  ...  IstPKW  IstFuss  IstKrad  IstGkfz  \\\n",
       "6154           2           3  ...       1        0        0        0   \n",
       "6186           5           3  ...       1        0        0        0   \n",
       "6222           6           3  ...       1        0        0        0   \n",
       "6273           4           3  ...       1        0        0        0   \n",
       "6278           2           3  ...       1        0        0        0   \n",
       "\n",
       "      IstSonstige                 LINREFX                  LINREFY  \\\n",
       "6154            0  560167,549954812040000  5942453,488371437400000   \n",
       "6186            0  554503,949000001880000  5936709,515000000600000   \n",
       "6222            0  560030,650867687540000  5941388,377077335500000   \n",
       "6273            0  561695,970999999900000  5935355,815000003200000   \n",
       "6278            0  551459,613255783920000  5937130,482922792400000   \n",
       "\n",
       "              XGCSWGS84           YGCSWGS84 STRZUSTAND  \n",
       "6154  9,909801000000073  53,627413833000048          2  \n",
       "6186  9,823166851000053  53,576409588000047          0  \n",
       "6222  9,907525838000026  53,617857011000069          2  \n",
       "6273  9,931504854000025  53,563446780000049          1  \n",
       "6278  9,777262785000062  53,580500630000074          0  \n",
       "\n",
       "[5 rows x 24 columns]"
      ]
     },
     "execution_count": 24,
     "metadata": {},
     "output_type": "execute_result"
    }
   ],
   "source": [
    "df.head()"
   ]
  },
  {
   "cell_type": "code",
   "execution_count": 25,
   "metadata": {},
   "outputs": [
    {
     "data": {
      "text/plain": [
       "1    2310\n",
       "Name: IstRad, dtype: int64"
      ]
     },
     "execution_count": 25,
     "metadata": {},
     "output_type": "execute_result"
    }
   ],
   "source": [
    "# Kontrolle, inwiefern nur noch Unfalldaten mit Radbeteiligung vorliegen\n",
    "df[\"IstRad\"].value_counts()"
   ]
  },
  {
   "cell_type": "code",
   "execution_count": 26,
   "metadata": {},
   "outputs": [
    {
     "data": {
      "text/plain": [
       "<matplotlib.axes._subplots.AxesSubplot at 0x15ff3b0a160>"
      ]
     },
     "execution_count": 26,
     "metadata": {},
     "output_type": "execute_result"
    },
    {
     "data": {
      "image/png": "[encoded data removed]",
      "text/plain": [
       "<Figure size 432x288 with 1 Axes>"
      ]
     },
     "metadata": {
      "needs_background": "light"
     },
     "output_type": "display_data"
    }
   ],
   "source": [
    "# Häufigkeit der Radunfälle je nach Uhrzeit \n",
    "sns.countplot(data=df, x=\"USTUNDE\")"
   ]
  },
  {
   "cell_type": "code",
   "execution_count": 27,
   "metadata": {},
   "outputs": [
    {
     "data": {
      "text/plain": [
       "<matplotlib.axes._subplots.AxesSubplot at 0x15ff3f014c0>"
      ]
     },
     "execution_count": 27,
     "metadata": {},
     "output_type": "execute_result"
    },
    {
     "data": {
      "image/png": "[encoded data removed]",
      "text/plain": [
       "<Figure size 432x288 with 1 Axes>"
      ]
     },
     "metadata": {
      "needs_background": "light"
     },
     "output_type": "display_data"
    }
   ],
   "source": [
    "# Häufigkeit der Radunfälle je nach Monat \n",
    "sns.countplot(data=df, x=\"UMONAT\")"
   ]
  },
  {
   "cell_type": "code",
   "execution_count": 28,
   "metadata": {},
   "outputs": [
    {
     "data": {
      "text/plain": [
       "<matplotlib.axes._subplots.AxesSubplot at 0x15ff3f78850>"
      ]
     },
     "execution_count": 28,
     "metadata": {},
     "output_type": "execute_result"
    },
    {
     "data": {
      "image/png": "[encoded data removed]",
      "text/plain": [
       "<Figure size 432x288 with 1 Axes>"
      ]
     },
     "metadata": {
      "needs_background": "light"
     },
     "output_type": "display_data"
    }
   ],
   "source": [
    "# Häufigkeit der Radunfälle je nach Wochentag (1 = Montag, 7 = Sonntag)\n",
    "sns.countplot(data=df, x=\"UWOCHENTAG\")"
   ]
  },
  {
   "cell_type": "code",
   "execution_count": 30,
   "metadata": {},
   "outputs": [
    {
     "data": {
      "text/plain": [
       "<matplotlib.axes._subplots.AxesSubplot at 0x15ff40345b0>"
      ]
     },
     "execution_count": 30,
     "metadata": {},
     "output_type": "execute_result"
    },
    {
     "data": {
      "image/png": "[encoded data removed]",
      "text/plain": [
       "<Figure size 432x288 with 1 Axes>"
      ]
     },
     "metadata": {
      "needs_background": "light"
     },
     "output_type": "display_data"
    }
   ],
   "source": [
    "# Häufigkeit der Radunfälle je nach Unfallkategorie (1 = Unfall mit Getöteten, 2 = Unfall mit Schwerverletzten,3 = Unfall mit Leichtverletzten)\n",
    "sns.countplot(data=df, x=\"UKATEGORIE\")"
   ]
  },
  {
   "cell_type": "code",
   "execution_count": 31,
   "metadata": {},
   "outputs": [
    {
     "data": {
      "text/plain": [
       "<matplotlib.axes._subplots.AxesSubplot at 0x15ff4087670>"
      ]
     },
     "execution_count": 31,
     "metadata": {},
     "output_type": "execute_result"
    },
    {
     "data": {
      "image/png": "[encoded data removed]",
      "text/plain": [
       "<Figure size 432x288 with 1 Axes>"
      ]
     },
     "metadata": {
      "needs_background": "light"
     },
     "output_type": "display_data"
    }
   ],
   "source": [
    "# Häufigkeit der Radunfälle je nach Unfallart (5 = Zusammenstoß mit einbiegendem / kreuzendem Fahrzeug)\n",
    "sns.countplot(data=df, x=\"UART\")"
   ]
  },
  {
   "cell_type": "code",
   "execution_count": 32,
   "metadata": {},
   "outputs": [
    {
     "data": {
      "text/plain": [
       "<matplotlib.axes._subplots.AxesSubplot at 0x15ff40fc550>"
      ]
     },
     "execution_count": 32,
     "metadata": {},
     "output_type": "execute_result"
    },
    {
     "data": {
      "image/png": "[encoded data removed]",
      "text/plain": [
       "<Figure size 432x288 with 1 Axes>"
      ]
     },
     "metadata": {
      "needs_background": "light"
     },
     "output_type": "display_data"
    }
   ],
   "source": [
    "# Häufigkeit der Radunfälle je nach Unfalltyp (Unfalltyp: 1 = Fahrunfall, 2 = Abbiegeunfall, 3 = Einbiegen / Kreuzen-Unfall, 4 = Überschreiten-Unfall, 5 = Unfall durch ruhenden Verkehr,6 = Unfall im Längsverkeh)\n",
    "sns.countplot(data=df, x=\"UTYP1\")"
   ]
  },
  {
   "cell_type": "code",
   "execution_count": 33,
   "metadata": {},
   "outputs": [
    {
     "data": {
      "text/plain": [
       "<matplotlib.axes._subplots.AxesSubplot at 0x15ff415ec10>"
      ]
     },
     "execution_count": 33,
     "metadata": {},
     "output_type": "execute_result"
    },
    {
     "data": {
      "image/png": "[encoded data removed]",
      "text/plain": [
       "<Figure size 432x288 with 1 Axes>"
      ]
     },
     "metadata": {
      "needs_background": "light"
     },
     "output_type": "display_data"
    }
   ],
   "source": [
    "# Häufigkeit der Radunfälle je nach Lichtverhältnis (0 = Tageslicht, 1 = Dämmerung, 2 = Dunkelheit)\n",
    "sns.countplot(data=df, x=\"ULICHTVERH\")"
   ]
  },
  {
   "cell_type": "code",
   "execution_count": 34,
   "metadata": {},
   "outputs": [
    {
     "data": {
      "text/plain": [
       "<matplotlib.axes._subplots.AxesSubplot at 0x15ff41afe80>"
      ]
     },
     "execution_count": 34,
     "metadata": {},
     "output_type": "execute_result"
    },
    {
     "data": {
      "image/png": "[encoded data removed]",
      "text/plain": [
       "<Figure size 432x288 with 1 Axes>"
      ]
     },
     "metadata": {
      "needs_background": "light"
     },
     "output_type": "display_data"
    }
   ],
   "source": [
    "# Häufigkeit der Radunfälle mit/ohne PKW-Beteiligung (0 = Unfall ohne PKW-Beteiligung, 1 = Unfall mit PKW-Beteiligung)\n",
    "sns.countplot(data=df, x=\"IstPKW\")"
   ]
  },
  {
   "cell_type": "code",
   "execution_count": 35,
   "metadata": {},
   "outputs": [
    {
     "data": {
      "text/plain": [
       "<matplotlib.axes._subplots.AxesSubplot at 0x15ff3a65a90>"
      ]
     },
     "execution_count": 35,
     "metadata": {},
     "output_type": "execute_result"
    },
    {
     "data": {
      "image/png": "[encoded data removed]",
      "text/plain": [
       "<Figure size 432x288 with 1 Axes>"
      ]
     },
     "metadata": {
      "needs_background": "light"
     },
     "output_type": "display_data"
    }
   ],
   "source": [
    "# Häufigkeit der Radunfällen mit/ ohne Fußgängerbeteiligung (0 = Unfall ohne Fußgängerbeteiligung, 1 = Unfall mit Fußgängerbeteiligung\n",
    "sns.countplot(data=df, x=\"IstFuss\")"
   ]
  },
  {
   "cell_type": "code",
   "execution_count": 36,
   "metadata": {},
   "outputs": [
    {
     "data": {
      "text/plain": [
       "<matplotlib.axes._subplots.AxesSubplot at 0x15ff412dac0>"
      ]
     },
     "execution_count": 36,
     "metadata": {},
     "output_type": "execute_result"
    },
    {
     "data": {
      "image/png": "[encoded data removed]",
      "text/plain": [
       "<Figure size 432x288 with 1 Axes>"
      ]
     },
     "metadata": {
      "needs_background": "light"
     },
     "output_type": "display_data"
    }
   ],
   "source": [
    "sns.countplot(data=df, x=\"IstKrad\")"
   ]
  },
  {
   "cell_type": "code",
   "execution_count": 37,
   "metadata": {},
   "outputs": [
    {
     "data": {
      "text/plain": [
       "<matplotlib.axes._subplots.AxesSubplot at 0x15ff41b9df0>"
      ]
     },
     "execution_count": 37,
     "metadata": {},
     "output_type": "execute_result"
    },
    {
     "data": {
      "image/png": "[encoded data removed]",
      "text/plain": [
       "<Figure size 432x288 with 1 Axes>"
      ]
     },
     "metadata": {
      "needs_background": "light"
     },
     "output_type": "display_data"
    }
   ],
   "source": [
    "# Häufigkeit der Radunfälle mit/ ohne Güterkraftfahrzeugbeteiligung (0 = Unfall ohne Güterkraftfahrzeugbeteiligung, 1 = Unfall mit Güterkraftfahrzeugbeteiligung)\n",
    "sns.countplot(data=df, x=\"IstGkfz\")"
   ]
  },
  {
   "cell_type": "code",
   "execution_count": 38,
   "metadata": {},
   "outputs": [
    {
     "data": {
      "text/plain": [
       "<matplotlib.axes._subplots.AxesSubplot at 0x15ff42b2220>"
      ]
     },
     "execution_count": 38,
     "metadata": {},
     "output_type": "execute_result"
    },
    {
     "data": {
      "image/png": "[encoded data removed]",
      "text/plain": [
       "<Figure size 432x288 with 1 Axes>"
      ]
     },
     "metadata": {
      "needs_background": "light"
     },
     "output_type": "display_data"
    }
   ],
   "source": [
    "# Häufigkeit der Radunfälle mit Sonstige (0 = Unfall ohne Beteiligung eines oben nicht genannten Verkehrsmittels, 1 = Unfall mit Beteiligung)\n",
    "sns.countplot(data=df, x=\"IstSonstige\")"
   ]
  },
  {
   "cell_type": "code",
   "execution_count": 39,
   "metadata": {},
   "outputs": [
    {
     "data": {
      "text/plain": [
       "<matplotlib.axes._subplots.AxesSubplot at 0x15ff42ff7f0>"
      ]
     },
     "execution_count": 39,
     "metadata": {},
     "output_type": "execute_result"
    },
    {
     "data": {
      "image/png": "[encoded data removed]",
      "text/plain": [
       "<Figure size 432x288 with 1 Axes>"
      ]
     },
     "metadata": {
      "needs_background": "light"
     },
     "output_type": "display_data"
    }
   ],
   "source": [
    "# Häufigkeit der Radunfälle je nach Straßenzustand (0 = trocken, 1 = nass/feucht/schlüpfrig, 2 = winterglatt)\n",
    "sns.countplot(data=df, x=\"STRZUSTAND\")"
   ]
  },
  {
   "cell_type": "code",
   "execution_count": null,
   "metadata": {},
   "outputs": [],
   "source": []
  }
 ],
 "metadata": {
  "kernelspec": {
   "display_name": "Python 3",
   "language": "python",
   "name": "python3"
  },
  "language_info": {
   "codemirror_mode": {
    "name": "ipython",
    "version": 3
   },
   "file_extension": ".py",
   "mimetype": "text/x-python",
   "name": "python",
   "nbconvert_exporter": "python",
   "pygments_lexer": "ipython3",
   "version": "3.8.3"
  }
 },
 "nbformat": 4,
 "nbformat_minor": 4
}
