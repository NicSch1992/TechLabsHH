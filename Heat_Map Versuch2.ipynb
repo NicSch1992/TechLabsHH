{
 "cells": [
  {
   "cell_type": "code",
   "execution_count": 44,
   "metadata": {},
   "outputs": [],
   "source": [
    "import numpy as np \n",
    "import pandas as pd \n",
    "import gmaps \n",
    "import gmaps.datasets \n",
    "\n",
    "\n",
    "\n",
    "file_path = r\"C:\\Users\\franz\\OneDrive\\Desktop\\TUHH\\3. Semester\\00_TechLabs\\Daten\\Sauber/Unfallorte_gesamt_bereinigt.txt\"\n",
    "\n"
   ]
  },
  {
   "cell_type": "code",
   "execution_count": null,
   "metadata": {},
   "outputs": [],
   "source": []
  },
  {
   "cell_type": "code",
   "execution_count": null,
   "metadata": {},
   "outputs": [],
   "source": []
  },
  {
   "cell_type": "code",
   "execution_count": null,
   "metadata": {},
   "outputs": [],
   "source": []
  },
  {
   "cell_type": "code",
   "execution_count": 45,
   "metadata": {},
   "outputs": [],
   "source": [
    "#conda install -c conda-forge gmaps"
   ]
  },
  {
   "cell_type": "code",
   "execution_count": 46,
   "metadata": {},
   "outputs": [],
   "source": [
    "df = pd.read_csv(file_path, sep=\",\")"
   ]
  },
  {
   "cell_type": "code",
   "execution_count": 47,
   "metadata": {},
   "outputs": [
    {
     "data": {
      "text/html": [
       "<div>\n",
       "<style scoped>\n",
       "    .dataframe tbody tr th:only-of-type {\n",
       "        vertical-align: middle;\n",
       "    }\n",
       "\n",
       "    .dataframe tbody tr th {\n",
       "        vertical-align: top;\n",
       "    }\n",
       "\n",
       "    .dataframe thead th {\n",
       "        text-align: right;\n",
       "    }\n",
       "</style>\n",
       "<table border=\"1\" class=\"dataframe\">\n",
       "  <thead>\n",
       "    <tr style=\"text-align: right;\">\n",
       "      <th></th>\n",
       "      <th>Unnamed: 0</th>\n",
       "      <th>OBJECTID</th>\n",
       "      <th>ULAND</th>\n",
       "      <th>UREGBEZ</th>\n",
       "      <th>UKREIS</th>\n",
       "      <th>UGEMEINDE</th>\n",
       "      <th>UJAHR</th>\n",
       "      <th>UMONAT</th>\n",
       "      <th>USTUNDE</th>\n",
       "      <th>UWOCHENTAG</th>\n",
       "      <th>...</th>\n",
       "      <th>IstKrad</th>\n",
       "      <th>IstGkfz</th>\n",
       "      <th>IstSonstig</th>\n",
       "      <th>LINREFX</th>\n",
       "      <th>LINREFY</th>\n",
       "      <th>XGCSWGS84</th>\n",
       "      <th>YGCSWGS84</th>\n",
       "      <th>UIDENTSTLA</th>\n",
       "      <th>lat_short</th>\n",
       "      <th>long_short</th>\n",
       "    </tr>\n",
       "  </thead>\n",
       "  <tbody>\n",
       "    <tr>\n",
       "      <th>count</th>\n",
       "      <td>9019.000000</td>\n",
       "      <td>9019.000000</td>\n",
       "      <td>9019.0</td>\n",
       "      <td>9019.000000</td>\n",
       "      <td>9019.000000</td>\n",
       "      <td>9019.000000</td>\n",
       "      <td>9019.000000</td>\n",
       "      <td>9019.000000</td>\n",
       "      <td>9019.000000</td>\n",
       "      <td>9019.000000</td>\n",
       "      <td>...</td>\n",
       "      <td>9019.000000</td>\n",
       "      <td>6839.000000</td>\n",
       "      <td>9019.000000</td>\n",
       "      <td>9019.000000</td>\n",
       "      <td>9.019000e+03</td>\n",
       "      <td>9019.000000</td>\n",
       "      <td>9019.000000</td>\n",
       "      <td>2.180000e+03</td>\n",
       "      <td>9019.000000</td>\n",
       "      <td>9019.000000</td>\n",
       "    </tr>\n",
       "    <tr>\n",
       "      <th>mean</th>\n",
       "      <td>114267.746757</td>\n",
       "      <td>114268.746757</td>\n",
       "      <td>2.0</td>\n",
       "      <td>3.336179</td>\n",
       "      <td>6.573013</td>\n",
       "      <td>348.808848</td>\n",
       "      <td>2017.525225</td>\n",
       "      <td>6.855305</td>\n",
       "      <td>13.233285</td>\n",
       "      <td>4.062535</td>\n",
       "      <td>...</td>\n",
       "      <td>0.010201</td>\n",
       "      <td>0.020471</td>\n",
       "      <td>0.088480</td>\n",
       "      <td>566613.368278</td>\n",
       "      <td>5.936381e+06</td>\n",
       "      <td>10.005960</td>\n",
       "      <td>53.572028</td>\n",
       "      <td>2.170692e+18</td>\n",
       "      <td>10.005963</td>\n",
       "      <td>53.572026</td>\n",
       "    </tr>\n",
       "    <tr>\n",
       "      <th>std</th>\n",
       "      <td>42798.115215</td>\n",
       "      <td>42798.115215</td>\n",
       "      <td>0.0</td>\n",
       "      <td>1.702043</td>\n",
       "      <td>4.626534</td>\n",
       "      <td>168.811413</td>\n",
       "      <td>1.118456</td>\n",
       "      <td>2.949343</td>\n",
       "      <td>4.578789</td>\n",
       "      <td>1.696236</td>\n",
       "      <td>...</td>\n",
       "      <td>0.100488</td>\n",
       "      <td>0.141615</td>\n",
       "      <td>0.284007</td>\n",
       "      <td>5714.901154</td>\n",
       "      <td>5.022940e+03</td>\n",
       "      <td>0.086317</td>\n",
       "      <td>0.045124</td>\n",
       "      <td>2.962057e+14</td>\n",
       "      <td>0.086325</td>\n",
       "      <td>0.045124</td>\n",
       "    </tr>\n",
       "    <tr>\n",
       "      <th>min</th>\n",
       "      <td>6022.000000</td>\n",
       "      <td>6023.000000</td>\n",
       "      <td>2.0</td>\n",
       "      <td>1.000000</td>\n",
       "      <td>1.000000</td>\n",
       "      <td>101.000000</td>\n",
       "      <td>2016.000000</td>\n",
       "      <td>1.000000</td>\n",
       "      <td>0.000000</td>\n",
       "      <td>1.000000</td>\n",
       "      <td>...</td>\n",
       "      <td>0.000000</td>\n",
       "      <td>0.000000</td>\n",
       "      <td>0.000000</td>\n",
       "      <td>549085.167200</td>\n",
       "      <td>5.917209e+06</td>\n",
       "      <td>9.741474</td>\n",
       "      <td>53.397676</td>\n",
       "      <td>2.170102e+18</td>\n",
       "      <td>9.741000</td>\n",
       "      <td>53.398000</td>\n",
       "    </tr>\n",
       "    <tr>\n",
       "      <th>25%</th>\n",
       "      <td>97696.000000</td>\n",
       "      <td>97697.000000</td>\n",
       "      <td>2.0</td>\n",
       "      <td>2.000000</td>\n",
       "      <td>3.000000</td>\n",
       "      <td>212.000000</td>\n",
       "      <td>2017.000000</td>\n",
       "      <td>5.000000</td>\n",
       "      <td>9.000000</td>\n",
       "      <td>3.000000</td>\n",
       "      <td>...</td>\n",
       "      <td>0.000000</td>\n",
       "      <td>0.000000</td>\n",
       "      <td>0.000000</td>\n",
       "      <td>563113.830901</td>\n",
       "      <td>5.934276e+06</td>\n",
       "      <td>9.953118</td>\n",
       "      <td>53.553348</td>\n",
       "      <td>2.170503e+18</td>\n",
       "      <td>9.953000</td>\n",
       "      <td>53.553000</td>\n",
       "    </tr>\n",
       "    <tr>\n",
       "      <th>50%</th>\n",
       "      <td>124490.000000</td>\n",
       "      <td>124491.000000</td>\n",
       "      <td>2.0</td>\n",
       "      <td>3.000000</td>\n",
       "      <td>5.000000</td>\n",
       "      <td>320.000000</td>\n",
       "      <td>2018.000000</td>\n",
       "      <td>7.000000</td>\n",
       "      <td>14.000000</td>\n",
       "      <td>4.000000</td>\n",
       "      <td>...</td>\n",
       "      <td>0.000000</td>\n",
       "      <td>0.000000</td>\n",
       "      <td>0.000000</td>\n",
       "      <td>565984.564800</td>\n",
       "      <td>5.936364e+06</td>\n",
       "      <td>9.996110</td>\n",
       "      <td>53.572078</td>\n",
       "      <td>2.170706e+18</td>\n",
       "      <td>9.996000</td>\n",
       "      <td>53.572000</td>\n",
       "    </tr>\n",
       "    <tr>\n",
       "      <th>75%</th>\n",
       "      <td>128306.000000</td>\n",
       "      <td>128307.000000</td>\n",
       "      <td>2.0</td>\n",
       "      <td>5.000000</td>\n",
       "      <td>9.000000</td>\n",
       "      <td>508.000000</td>\n",
       "      <td>2019.000000</td>\n",
       "      <td>9.000000</td>\n",
       "      <td>17.000000</td>\n",
       "      <td>5.000000</td>\n",
       "      <td>...</td>\n",
       "      <td>0.000000</td>\n",
       "      <td>0.000000</td>\n",
       "      <td>0.000000</td>\n",
       "      <td>569968.091350</td>\n",
       "      <td>5.939114e+06</td>\n",
       "      <td>10.056940</td>\n",
       "      <td>53.596609</td>\n",
       "      <td>2.170920e+18</td>\n",
       "      <td>10.057000</td>\n",
       "      <td>53.597000</td>\n",
       "    </tr>\n",
       "    <tr>\n",
       "      <th>max</th>\n",
       "      <td>163330.000000</td>\n",
       "      <td>163331.000000</td>\n",
       "      <td>2.0</td>\n",
       "      <td>7.000000</td>\n",
       "      <td>20.000000</td>\n",
       "      <td>718.000000</td>\n",
       "      <td>2019.000000</td>\n",
       "      <td>12.000000</td>\n",
       "      <td>23.000000</td>\n",
       "      <td>7.000000</td>\n",
       "      <td>...</td>\n",
       "      <td>1.000000</td>\n",
       "      <td>1.000000</td>\n",
       "      <td>1.000000</td>\n",
       "      <td>584611.109122</td>\n",
       "      <td>5.952865e+06</td>\n",
       "      <td>10.273421</td>\n",
       "      <td>53.719033</td>\n",
       "      <td>2.171231e+18</td>\n",
       "      <td>10.273000</td>\n",
       "      <td>53.719000</td>\n",
       "    </tr>\n",
       "  </tbody>\n",
       "</table>\n",
       "<p>8 rows × 28 columns</p>\n",
       "</div>"
      ],
      "text/plain": [
       "          Unnamed: 0       OBJECTID   ULAND      UREGBEZ       UKREIS  \\\n",
       "count    9019.000000    9019.000000  9019.0  9019.000000  9019.000000   \n",
       "mean   114267.746757  114268.746757     2.0     3.336179     6.573013   \n",
       "std     42798.115215   42798.115215     0.0     1.702043     4.626534   \n",
       "min      6022.000000    6023.000000     2.0     1.000000     1.000000   \n",
       "25%     97696.000000   97697.000000     2.0     2.000000     3.000000   \n",
       "50%    124490.000000  124491.000000     2.0     3.000000     5.000000   \n",
       "75%    128306.000000  128307.000000     2.0     5.000000     9.000000   \n",
       "max    163330.000000  163331.000000     2.0     7.000000    20.000000   \n",
       "\n",
       "         UGEMEINDE        UJAHR       UMONAT      USTUNDE   UWOCHENTAG  ...  \\\n",
       "count  9019.000000  9019.000000  9019.000000  9019.000000  9019.000000  ...   \n",
       "mean    348.808848  2017.525225     6.855305    13.233285     4.062535  ...   \n",
       "std     168.811413     1.118456     2.949343     4.578789     1.696236  ...   \n",
       "min     101.000000  2016.000000     1.000000     0.000000     1.000000  ...   \n",
       "25%     212.000000  2017.000000     5.000000     9.000000     3.000000  ...   \n",
       "50%     320.000000  2018.000000     7.000000    14.000000     4.000000  ...   \n",
       "75%     508.000000  2019.000000     9.000000    17.000000     5.000000  ...   \n",
       "max     718.000000  2019.000000    12.000000    23.000000     7.000000  ...   \n",
       "\n",
       "           IstKrad      IstGkfz   IstSonstig        LINREFX       LINREFY  \\\n",
       "count  9019.000000  6839.000000  9019.000000    9019.000000  9.019000e+03   \n",
       "mean      0.010201     0.020471     0.088480  566613.368278  5.936381e+06   \n",
       "std       0.100488     0.141615     0.284007    5714.901154  5.022940e+03   \n",
       "min       0.000000     0.000000     0.000000  549085.167200  5.917209e+06   \n",
       "25%       0.000000     0.000000     0.000000  563113.830901  5.934276e+06   \n",
       "50%       0.000000     0.000000     0.000000  565984.564800  5.936364e+06   \n",
       "75%       0.000000     0.000000     0.000000  569968.091350  5.939114e+06   \n",
       "max       1.000000     1.000000     1.000000  584611.109122  5.952865e+06   \n",
       "\n",
       "         XGCSWGS84    YGCSWGS84    UIDENTSTLA    lat_short   long_short  \n",
       "count  9019.000000  9019.000000  2.180000e+03  9019.000000  9019.000000  \n",
       "mean     10.005960    53.572028  2.170692e+18    10.005963    53.572026  \n",
       "std       0.086317     0.045124  2.962057e+14     0.086325     0.045124  \n",
       "min       9.741474    53.397676  2.170102e+18     9.741000    53.398000  \n",
       "25%       9.953118    53.553348  2.170503e+18     9.953000    53.553000  \n",
       "50%       9.996110    53.572078  2.170706e+18     9.996000    53.572000  \n",
       "75%      10.056940    53.596609  2.170920e+18    10.057000    53.597000  \n",
       "max      10.273421    53.719033  2.171231e+18    10.273000    53.719000  \n",
       "\n",
       "[8 rows x 28 columns]"
      ]
     },
     "execution_count": 47,
     "metadata": {},
     "output_type": "execute_result"
    }
   ],
   "source": [
    "df.describe()"
   ]
  },
  {
   "cell_type": "code",
   "execution_count": 48,
   "metadata": {},
   "outputs": [],
   "source": [
    "#Long und short mit einem Rast von 100x100\n",
    "Lon = np.arange(53.398, 53.719, 0.00321)\n",
    "Lat = np.arange(9.741, 10.273, 0.00532) "
   ]
  },
  {
   "cell_type": "code",
   "execution_count": 49,
   "metadata": {},
   "outputs": [],
   "source": [
    "dfmap = np.zeros((100,100)) "
   ]
  },
  {
   "cell_type": "code",
   "execution_count": 50,
   "metadata": {},
   "outputs": [],
   "source": [
    "df_2016 = df[df['UJAHR'] == 2016] "
   ]
  },
  {
   "cell_type": "code",
   "execution_count": 51,
   "metadata": {},
   "outputs": [
    {
     "data": {
      "text/plain": [
       "<function TextIOWrapper.close()>"
      ]
     },
     "execution_count": 51,
     "metadata": {},
     "output_type": "execute_result"
    }
   ],
   "source": [
    "api_file=open(\"api-key.txt\",\"r\")\n",
    "api_key=api_file.read()\n",
    "api_file.close"
   ]
  },
  {
   "cell_type": "code",
   "execution_count": 52,
   "metadata": {},
   "outputs": [],
   "source": [
    "#The first for loop is created to go through all 2018 crime data. The second for loop is created to store crime rates by location. To do this, we go through latitude and longitude values for each incident. If lat-lon values of an incident match with one of the small cells in the 100×100 grid we created over Boston, we add 1 to that small cell. By the end of this execution, all locations will be recorded in one of the small cells in the 100×100 grid.\n",
    "for a in range(len(df_2016)):\n",
    "\n",
    "    for b1 in range(100):\n",
    "        if Lat[b1]-0.00105 <= df_2016[\"lat_short\"].values[a] < Lat[b1] + 0.001605:\n",
    "    \n",
    "         for b2 in range(100):\n",
    "            if Lon[b2]-0.00119 <= df_2016[\"long_short\"].values[a] < Lon[b2] + 0.00266:\n",
    "                dfmap[b1,b2] += 1"
   ]
  },
  {
   "cell_type": "code",
   "execution_count": 53,
   "metadata": {},
   "outputs": [],
   "source": [
    "gmaps.configure(api_key)"
   ]
  },
  {
   "cell_type": "code",
   "execution_count": 54,
   "metadata": {},
   "outputs": [],
   "source": [
    "longitude_values = [Lon,]*100 \n",
    "latitude_values = np.repeat(Lat,100)\n",
    "dfmap.resize((10000,)) "
   ]
  },
  {
   "cell_type": "code",
   "execution_count": 55,
   "metadata": {},
   "outputs": [],
   "source": [
    "heatmap_data = {'Counts': dfmap, 'lat_short': latitude_values, 'long_short' : np.concatenate(longitude_values)} \n",
    "df1 = pd.DataFrame(data=heatmap_data) "
   ]
  },
  {
   "cell_type": "code",
   "execution_count": 56,
   "metadata": {},
   "outputs": [
    {
     "data": {
      "application/vnd.jupyter.widget-view+json": {
       "model_id": "a24da902510e48869ad215cd7087e049",
       "version_major": 2,
       "version_minor": 0
      },
      "text/plain": [
       "Figure(layout=FigureLayout(height='420px'))"
      ]
     },
     "metadata": {},
     "output_type": "display_data"
    }
   ],
   "source": [
    "locations = df1[['lat_short', 'long_short']] \n",
    "weights = df1['Counts'] \n",
    "fig = gmaps.figure() \n",
    "heatmap_layer = gmaps.heatmap_layer(locations, weights=weights)\n",
    "fig.add_layer(gmaps.heatmap_layer(locations, weights=weights)) \n",
    "fig "
   ]
  },
  {
   "cell_type": "code",
   "execution_count": null,
   "metadata": {},
   "outputs": [],
   "source": []
  },
  {
   "cell_type": "code",
   "execution_count": null,
   "metadata": {},
   "outputs": [],
   "source": []
  },
  {
   "cell_type": "code",
   "execution_count": null,
   "metadata": {},
   "outputs": [],
   "source": []
  },
  {
   "cell_type": "code",
   "execution_count": null,
   "metadata": {},
   "outputs": [],
   "source": []
  },
  {
   "cell_type": "code",
   "execution_count": null,
   "metadata": {},
   "outputs": [],
   "source": []
  },
  {
   "cell_type": "code",
   "execution_count": null,
   "metadata": {},
   "outputs": [],
   "source": []
  },
  {
   "cell_type": "code",
   "execution_count": null,
   "metadata": {},
   "outputs": [],
   "source": []
  },
  {
   "cell_type": "code",
   "execution_count": null,
   "metadata": {},
   "outputs": [],
   "source": []
  },
  {
   "cell_type": "code",
   "execution_count": null,
   "metadata": {},
   "outputs": [],
   "source": []
  },
  {
   "cell_type": "code",
   "execution_count": null,
   "metadata": {},
   "outputs": [],
   "source": []
  },
  {
   "cell_type": "code",
   "execution_count": null,
   "metadata": {},
   "outputs": [],
   "source": []
  },
  {
   "cell_type": "code",
   "execution_count": null,
   "metadata": {},
   "outputs": [],
   "source": []
  },
  {
   "cell_type": "code",
   "execution_count": null,
   "metadata": {},
   "outputs": [],
   "source": []
  },
  {
   "cell_type": "raw",
   "metadata": {},
   "source": []
  },
  {
   "cell_type": "code",
   "execution_count": null,
   "metadata": {},
   "outputs": [],
   "source": []
  },
  {
   "cell_type": "code",
   "execution_count": null,
   "metadata": {},
   "outputs": [],
   "source": []
  },
  {
   "cell_type": "code",
   "execution_count": null,
   "metadata": {},
   "outputs": [],
   "source": []
  },
  {
   "cell_type": "code",
   "execution_count": null,
   "metadata": {},
   "outputs": [],
   "source": []
  },
  {
   "cell_type": "code",
   "execution_count": null,
   "metadata": {},
   "outputs": [],
   "source": []
  },
  {
   "cell_type": "code",
   "execution_count": null,
   "metadata": {},
   "outputs": [],
   "source": []
  },
  {
   "cell_type": "code",
   "execution_count": null,
   "metadata": {},
   "outputs": [],
   "source": []
  },
  {
   "cell_type": "code",
   "execution_count": null,
   "metadata": {},
   "outputs": [],
   "source": []
  },
  {
   "cell_type": "code",
   "execution_count": null,
   "metadata": {},
   "outputs": [],
   "source": []
  },
  {
   "cell_type": "code",
   "execution_count": null,
   "metadata": {},
   "outputs": [],
   "source": []
  },
  {
   "cell_type": "code",
   "execution_count": null,
   "metadata": {},
   "outputs": [],
   "source": []
  }
 ],
 "metadata": {
  "kernelspec": {
   "display_name": "Python 3",
   "language": "python",
   "name": "python3"
  },
  "language_info": {
   "codemirror_mode": {
    "name": "ipython",
    "version": 3
   },
   "file_extension": ".py",
   "mimetype": "text/x-python",
   "name": "python",
   "nbconvert_exporter": "python",
   "pygments_lexer": "ipython3",
   "version": "3.8.5"
  }
 },
 "nbformat": 4,
 "nbformat_minor": 4
}
